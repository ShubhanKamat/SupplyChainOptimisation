{
 "cells": [
  {
   "cell_type": "code",
   "execution_count": 1,
   "id": "c8b3de16",
   "metadata": {
    "execution": {
     "iopub.execute_input": "2023-07-07T04:51:02.440594Z",
     "iopub.status.busy": "2023-07-07T04:51:02.440068Z",
     "iopub.status.idle": "2023-07-07T04:51:02.601118Z",
     "shell.execute_reply": "2023-07-07T04:51:02.599616Z"
    },
    "papermill": {
     "duration": 0.178568,
     "end_time": "2023-07-07T04:51:02.604107",
     "exception": false,
     "start_time": "2023-07-07T04:51:02.425539",
     "status": "completed"
    },
    "tags": []
   },
   "outputs": [],
   "source": [
    "import numpy as np\n",
    "import pandas as pd\n",
    "df = pd.read_csv(r'C:\\Users\\kam00\\Documents\\Supply chain\\data\\FMCG_data.csv')\n",
    "# X = df.iloc[:, :-1]\n",
    "#  y = df.iloc[:, -1]"
   ]
  },
  {
   "cell_type": "code",
   "execution_count": 2,
   "id": "afe5e263",
   "metadata": {
    "execution": {
     "iopub.execute_input": "2023-07-07T04:51:02.632240Z",
     "iopub.status.busy": "2023-07-07T04:51:02.631766Z",
     "iopub.status.idle": "2023-07-07T04:51:02.685505Z",
     "shell.execute_reply": "2023-07-07T04:51:02.684091Z"
    },
    "papermill": {
     "duration": 0.071592,
     "end_time": "2023-07-07T04:51:02.688589",
     "exception": false,
     "start_time": "2023-07-07T04:51:02.616997",
     "status": "completed"
    },
    "tags": []
   },
   "outputs": [
    {
     "data": {
      "text/html": [
       "<div>\n",
       "<style scoped>\n",
       "    .dataframe tbody tr th:only-of-type {\n",
       "        vertical-align: middle;\n",
       "    }\n",
       "\n",
       "    .dataframe tbody tr th {\n",
       "        vertical-align: top;\n",
       "    }\n",
       "\n",
       "    .dataframe thead th {\n",
       "        text-align: right;\n",
       "    }\n",
       "</style>\n",
       "<table border=\"1\" class=\"dataframe\">\n",
       "  <thead>\n",
       "    <tr style=\"text-align: right;\">\n",
       "      <th></th>\n",
       "      <th>Ware_house_ID</th>\n",
       "      <th>WH_Manager_ID</th>\n",
       "      <th>Location_type</th>\n",
       "      <th>WH_capacity_size</th>\n",
       "      <th>zone</th>\n",
       "      <th>WH_regional_zone</th>\n",
       "      <th>num_refill_req_l3m</th>\n",
       "      <th>transport_issue_l1y</th>\n",
       "      <th>Competitor_in_mkt</th>\n",
       "      <th>retail_shop_num</th>\n",
       "      <th>...</th>\n",
       "      <th>electric_supply</th>\n",
       "      <th>dist_from_hub</th>\n",
       "      <th>workers_num</th>\n",
       "      <th>wh_est_year</th>\n",
       "      <th>storage_issue_reported_l3m</th>\n",
       "      <th>temp_reg_mach</th>\n",
       "      <th>approved_wh_govt_certificate</th>\n",
       "      <th>wh_breakdown_l3m</th>\n",
       "      <th>govt_check_l3m</th>\n",
       "      <th>product_wg_ton</th>\n",
       "    </tr>\n",
       "  </thead>\n",
       "  <tbody>\n",
       "    <tr>\n",
       "      <th>0</th>\n",
       "      <td>WH_100000</td>\n",
       "      <td>EID_50000</td>\n",
       "      <td>Urban</td>\n",
       "      <td>Small</td>\n",
       "      <td>West</td>\n",
       "      <td>Zone 6</td>\n",
       "      <td>3</td>\n",
       "      <td>1</td>\n",
       "      <td>2</td>\n",
       "      <td>4651</td>\n",
       "      <td>...</td>\n",
       "      <td>1</td>\n",
       "      <td>91</td>\n",
       "      <td>29.0</td>\n",
       "      <td>NaN</td>\n",
       "      <td>13</td>\n",
       "      <td>0</td>\n",
       "      <td>A</td>\n",
       "      <td>5</td>\n",
       "      <td>15</td>\n",
       "      <td>17115</td>\n",
       "    </tr>\n",
       "    <tr>\n",
       "      <th>1</th>\n",
       "      <td>WH_100001</td>\n",
       "      <td>EID_50001</td>\n",
       "      <td>Rural</td>\n",
       "      <td>Large</td>\n",
       "      <td>North</td>\n",
       "      <td>Zone 5</td>\n",
       "      <td>0</td>\n",
       "      <td>0</td>\n",
       "      <td>4</td>\n",
       "      <td>6217</td>\n",
       "      <td>...</td>\n",
       "      <td>1</td>\n",
       "      <td>210</td>\n",
       "      <td>31.0</td>\n",
       "      <td>NaN</td>\n",
       "      <td>4</td>\n",
       "      <td>0</td>\n",
       "      <td>A</td>\n",
       "      <td>3</td>\n",
       "      <td>17</td>\n",
       "      <td>5074</td>\n",
       "    </tr>\n",
       "    <tr>\n",
       "      <th>2</th>\n",
       "      <td>WH_100002</td>\n",
       "      <td>EID_50002</td>\n",
       "      <td>Rural</td>\n",
       "      <td>Mid</td>\n",
       "      <td>South</td>\n",
       "      <td>Zone 2</td>\n",
       "      <td>1</td>\n",
       "      <td>0</td>\n",
       "      <td>4</td>\n",
       "      <td>4306</td>\n",
       "      <td>...</td>\n",
       "      <td>0</td>\n",
       "      <td>161</td>\n",
       "      <td>37.0</td>\n",
       "      <td>NaN</td>\n",
       "      <td>17</td>\n",
       "      <td>0</td>\n",
       "      <td>A</td>\n",
       "      <td>6</td>\n",
       "      <td>22</td>\n",
       "      <td>23137</td>\n",
       "    </tr>\n",
       "    <tr>\n",
       "      <th>3</th>\n",
       "      <td>WH_100003</td>\n",
       "      <td>EID_50003</td>\n",
       "      <td>Rural</td>\n",
       "      <td>Mid</td>\n",
       "      <td>North</td>\n",
       "      <td>Zone 3</td>\n",
       "      <td>7</td>\n",
       "      <td>4</td>\n",
       "      <td>2</td>\n",
       "      <td>6000</td>\n",
       "      <td>...</td>\n",
       "      <td>0</td>\n",
       "      <td>103</td>\n",
       "      <td>21.0</td>\n",
       "      <td>NaN</td>\n",
       "      <td>17</td>\n",
       "      <td>1</td>\n",
       "      <td>A+</td>\n",
       "      <td>3</td>\n",
       "      <td>27</td>\n",
       "      <td>22115</td>\n",
       "    </tr>\n",
       "    <tr>\n",
       "      <th>4</th>\n",
       "      <td>WH_100004</td>\n",
       "      <td>EID_50004</td>\n",
       "      <td>Rural</td>\n",
       "      <td>Large</td>\n",
       "      <td>North</td>\n",
       "      <td>Zone 5</td>\n",
       "      <td>3</td>\n",
       "      <td>1</td>\n",
       "      <td>2</td>\n",
       "      <td>4740</td>\n",
       "      <td>...</td>\n",
       "      <td>1</td>\n",
       "      <td>112</td>\n",
       "      <td>25.0</td>\n",
       "      <td>2009.0</td>\n",
       "      <td>18</td>\n",
       "      <td>0</td>\n",
       "      <td>C</td>\n",
       "      <td>6</td>\n",
       "      <td>24</td>\n",
       "      <td>24071</td>\n",
       "    </tr>\n",
       "  </tbody>\n",
       "</table>\n",
       "<p>5 rows × 24 columns</p>\n",
       "</div>"
      ],
      "text/plain": [
       "  Ware_house_ID WH_Manager_ID Location_type WH_capacity_size   zone  \\\n",
       "0     WH_100000     EID_50000         Urban            Small   West   \n",
       "1     WH_100001     EID_50001         Rural            Large  North   \n",
       "2     WH_100002     EID_50002         Rural              Mid  South   \n",
       "3     WH_100003     EID_50003         Rural              Mid  North   \n",
       "4     WH_100004     EID_50004         Rural            Large  North   \n",
       "\n",
       "  WH_regional_zone  num_refill_req_l3m  transport_issue_l1y  \\\n",
       "0           Zone 6                   3                    1   \n",
       "1           Zone 5                   0                    0   \n",
       "2           Zone 2                   1                    0   \n",
       "3           Zone 3                   7                    4   \n",
       "4           Zone 5                   3                    1   \n",
       "\n",
       "   Competitor_in_mkt  retail_shop_num  ... electric_supply  dist_from_hub  \\\n",
       "0                  2             4651  ...               1             91   \n",
       "1                  4             6217  ...               1            210   \n",
       "2                  4             4306  ...               0            161   \n",
       "3                  2             6000  ...               0            103   \n",
       "4                  2             4740  ...               1            112   \n",
       "\n",
       "   workers_num  wh_est_year  storage_issue_reported_l3m  temp_reg_mach  \\\n",
       "0         29.0          NaN                          13              0   \n",
       "1         31.0          NaN                           4              0   \n",
       "2         37.0          NaN                          17              0   \n",
       "3         21.0          NaN                          17              1   \n",
       "4         25.0       2009.0                          18              0   \n",
       "\n",
       "   approved_wh_govt_certificate  wh_breakdown_l3m  govt_check_l3m  \\\n",
       "0                             A                 5              15   \n",
       "1                             A                 3              17   \n",
       "2                             A                 6              22   \n",
       "3                            A+                 3              27   \n",
       "4                             C                 6              24   \n",
       "\n",
       "   product_wg_ton  \n",
       "0           17115  \n",
       "1            5074  \n",
       "2           23137  \n",
       "3           22115  \n",
       "4           24071  \n",
       "\n",
       "[5 rows x 24 columns]"
      ]
     },
     "execution_count": 2,
     "metadata": {},
     "output_type": "execute_result"
    }
   ],
   "source": [
    "df.head()"
   ]
  },
  {
   "cell_type": "markdown",
   "id": "8ed58d96",
   "metadata": {
    "papermill": {
     "duration": 0.01334,
     "end_time": "2023-07-07T04:51:02.715691",
     "exception": false,
     "start_time": "2023-07-07T04:51:02.702351",
     "status": "completed"
    },
    "tags": []
   },
   "source": [
    "# Looking at the basic schema of the dataframe"
   ]
  },
  {
   "cell_type": "code",
   "execution_count": 3,
   "id": "0a25359a",
   "metadata": {
    "execution": {
     "iopub.execute_input": "2023-07-07T04:51:02.749930Z",
     "iopub.status.busy": "2023-07-07T04:51:02.749478Z",
     "iopub.status.idle": "2023-07-07T04:51:02.808973Z",
     "shell.execute_reply": "2023-07-07T04:51:02.807078Z"
    },
    "papermill": {
     "duration": 0.081901,
     "end_time": "2023-07-07T04:51:02.812066",
     "exception": false,
     "start_time": "2023-07-07T04:51:02.730165",
     "status": "completed"
    },
    "tags": []
   },
   "outputs": [
    {
     "name": "stdout",
     "output_type": "stream",
     "text": [
      "<class 'pandas.core.frame.DataFrame'>\n",
      "RangeIndex: 25000 entries, 0 to 24999\n",
      "Data columns (total 24 columns):\n",
      " #   Column                        Non-Null Count  Dtype  \n",
      "---  ------                        --------------  -----  \n",
      " 0   Ware_house_ID                 25000 non-null  object \n",
      " 1   WH_Manager_ID                 25000 non-null  object \n",
      " 2   Location_type                 25000 non-null  object \n",
      " 3   WH_capacity_size              25000 non-null  object \n",
      " 4   zone                          25000 non-null  object \n",
      " 5   WH_regional_zone              25000 non-null  object \n",
      " 6   num_refill_req_l3m            25000 non-null  int64  \n",
      " 7   transport_issue_l1y           25000 non-null  int64  \n",
      " 8   Competitor_in_mkt             25000 non-null  int64  \n",
      " 9   retail_shop_num               25000 non-null  int64  \n",
      " 10  wh_owner_type                 25000 non-null  object \n",
      " 11  distributor_num               25000 non-null  int64  \n",
      " 12  flood_impacted                25000 non-null  int64  \n",
      " 13  flood_proof                   25000 non-null  int64  \n",
      " 14  electric_supply               25000 non-null  int64  \n",
      " 15  dist_from_hub                 25000 non-null  int64  \n",
      " 16  workers_num                   24010 non-null  float64\n",
      " 17  wh_est_year                   13119 non-null  float64\n",
      " 18  storage_issue_reported_l3m    25000 non-null  int64  \n",
      " 19  temp_reg_mach                 25000 non-null  int64  \n",
      " 20  approved_wh_govt_certificate  24092 non-null  object \n",
      " 21  wh_breakdown_l3m              25000 non-null  int64  \n",
      " 22  govt_check_l3m                25000 non-null  int64  \n",
      " 23  product_wg_ton                25000 non-null  int64  \n",
      "dtypes: float64(2), int64(14), object(8)\n",
      "memory usage: 4.6+ MB\n"
     ]
    }
   ],
   "source": [
    "df.info()"
   ]
  },
  {
   "cell_type": "markdown",
   "id": "7ac8ba1d",
   "metadata": {
    "papermill": {
     "duration": 0.014132,
     "end_time": "2023-07-07T04:51:02.842488",
     "exception": false,
     "start_time": "2023-07-07T04:51:02.828356",
     "status": "completed"
    },
    "tags": []
   },
   "source": [
    "# Showing some features with missing values"
   ]
  },
  {
   "cell_type": "code",
   "execution_count": 4,
   "id": "2029c61e",
   "metadata": {
    "execution": {
     "iopub.execute_input": "2023-07-07T04:51:02.874821Z",
     "iopub.status.busy": "2023-07-07T04:51:02.874343Z",
     "iopub.status.idle": "2023-07-07T04:51:02.891688Z",
     "shell.execute_reply": "2023-07-07T04:51:02.890305Z"
    },
    "papermill": {
     "duration": 0.035569,
     "end_time": "2023-07-07T04:51:02.894255",
     "exception": false,
     "start_time": "2023-07-07T04:51:02.858686",
     "status": "completed"
    },
    "tags": []
   },
   "outputs": [
    {
     "data": {
      "text/html": [
       "<div>\n",
       "<style scoped>\n",
       "    .dataframe tbody tr th:only-of-type {\n",
       "        vertical-align: middle;\n",
       "    }\n",
       "\n",
       "    .dataframe tbody tr th {\n",
       "        vertical-align: top;\n",
       "    }\n",
       "\n",
       "    .dataframe thead th {\n",
       "        text-align: right;\n",
       "    }\n",
       "</style>\n",
       "<table border=\"1\" class=\"dataframe\">\n",
       "  <thead>\n",
       "    <tr style=\"text-align: right;\">\n",
       "      <th></th>\n",
       "      <th>wh_est_year</th>\n",
       "      <th>approved_wh_govt_certificate</th>\n",
       "    </tr>\n",
       "  </thead>\n",
       "  <tbody>\n",
       "    <tr>\n",
       "      <th>0</th>\n",
       "      <td>NaN</td>\n",
       "      <td>A</td>\n",
       "    </tr>\n",
       "    <tr>\n",
       "      <th>1</th>\n",
       "      <td>NaN</td>\n",
       "      <td>A</td>\n",
       "    </tr>\n",
       "    <tr>\n",
       "      <th>2</th>\n",
       "      <td>NaN</td>\n",
       "      <td>A</td>\n",
       "    </tr>\n",
       "    <tr>\n",
       "      <th>3</th>\n",
       "      <td>NaN</td>\n",
       "      <td>A+</td>\n",
       "    </tr>\n",
       "    <tr>\n",
       "      <th>4</th>\n",
       "      <td>2009.0</td>\n",
       "      <td>C</td>\n",
       "    </tr>\n",
       "    <tr>\n",
       "      <th>5</th>\n",
       "      <td>2009.0</td>\n",
       "      <td>A+</td>\n",
       "    </tr>\n",
       "    <tr>\n",
       "      <th>6</th>\n",
       "      <td>2010.0</td>\n",
       "      <td>B</td>\n",
       "    </tr>\n",
       "    <tr>\n",
       "      <th>7</th>\n",
       "      <td>NaN</td>\n",
       "      <td>C</td>\n",
       "    </tr>\n",
       "    <tr>\n",
       "      <th>8</th>\n",
       "      <td>2013.0</td>\n",
       "      <td>A+</td>\n",
       "    </tr>\n",
       "    <tr>\n",
       "      <th>9</th>\n",
       "      <td>NaN</td>\n",
       "      <td>C</td>\n",
       "    </tr>\n",
       "    <tr>\n",
       "      <th>10</th>\n",
       "      <td>1999.0</td>\n",
       "      <td>B+</td>\n",
       "    </tr>\n",
       "    <tr>\n",
       "      <th>11</th>\n",
       "      <td>2017.0</td>\n",
       "      <td>B</td>\n",
       "    </tr>\n",
       "    <tr>\n",
       "      <th>12</th>\n",
       "      <td>2022.0</td>\n",
       "      <td>B+</td>\n",
       "    </tr>\n",
       "    <tr>\n",
       "      <th>13</th>\n",
       "      <td>2008.0</td>\n",
       "      <td>A</td>\n",
       "    </tr>\n",
       "    <tr>\n",
       "      <th>14</th>\n",
       "      <td>NaN</td>\n",
       "      <td>B</td>\n",
       "    </tr>\n",
       "    <tr>\n",
       "      <th>15</th>\n",
       "      <td>NaN</td>\n",
       "      <td>B+</td>\n",
       "    </tr>\n",
       "    <tr>\n",
       "      <th>16</th>\n",
       "      <td>NaN</td>\n",
       "      <td>B+</td>\n",
       "    </tr>\n",
       "    <tr>\n",
       "      <th>17</th>\n",
       "      <td>NaN</td>\n",
       "      <td>A</td>\n",
       "    </tr>\n",
       "    <tr>\n",
       "      <th>18</th>\n",
       "      <td>2001.0</td>\n",
       "      <td>A+</td>\n",
       "    </tr>\n",
       "    <tr>\n",
       "      <th>19</th>\n",
       "      <td>NaN</td>\n",
       "      <td>B</td>\n",
       "    </tr>\n",
       "  </tbody>\n",
       "</table>\n",
       "</div>"
      ],
      "text/plain": [
       "    wh_est_year approved_wh_govt_certificate\n",
       "0           NaN                            A\n",
       "1           NaN                            A\n",
       "2           NaN                            A\n",
       "3           NaN                           A+\n",
       "4        2009.0                            C\n",
       "5        2009.0                           A+\n",
       "6        2010.0                            B\n",
       "7           NaN                            C\n",
       "8        2013.0                           A+\n",
       "9           NaN                            C\n",
       "10       1999.0                           B+\n",
       "11       2017.0                            B\n",
       "12       2022.0                           B+\n",
       "13       2008.0                            A\n",
       "14          NaN                            B\n",
       "15          NaN                           B+\n",
       "16          NaN                           B+\n",
       "17          NaN                            A\n",
       "18       2001.0                           A+\n",
       "19          NaN                            B"
      ]
     },
     "execution_count": 4,
     "metadata": {},
     "output_type": "execute_result"
    }
   ],
   "source": [
    "df.loc[:,['wh_est_year','approved_wh_govt_certificate']].head(20)"
   ]
  },
  {
   "cell_type": "markdown",
   "id": "a8d56ce6",
   "metadata": {
    "papermill": {
     "duration": 0.013716,
     "end_time": "2023-07-07T04:51:02.921871",
     "exception": false,
     "start_time": "2023-07-07T04:51:02.908155",
     "status": "completed"
    },
    "tags": []
   },
   "source": [
    "# How different features are correlated with each other "
   ]
  },
  {
   "cell_type": "code",
   "execution_count": 5,
   "id": "55e05ff3",
   "metadata": {
    "execution": {
     "iopub.execute_input": "2023-07-07T04:51:02.953121Z",
     "iopub.status.busy": "2023-07-07T04:51:02.952603Z",
     "iopub.status.idle": "2023-07-07T04:51:03.007249Z",
     "shell.execute_reply": "2023-07-07T04:51:03.005538Z"
    },
    "papermill": {
     "duration": 0.074289,
     "end_time": "2023-07-07T04:51:03.010185",
     "exception": false,
     "start_time": "2023-07-07T04:51:02.935896",
     "status": "completed"
    },
    "tags": []
   },
   "outputs": [
    {
     "name": "stderr",
     "output_type": "stream",
     "text": [
      "C:\\Users\\kam00\\AppData\\Local\\Temp\\ipykernel_23808\\1134722465.py:1: FutureWarning: The default value of numeric_only in DataFrame.corr is deprecated. In a future version, it will default to False. Select only valid columns or specify the value of numeric_only to silence this warning.\n",
      "  df.corr()\n"
     ]
    },
    {
     "data": {
      "text/html": [
       "<div>\n",
       "<style scoped>\n",
       "    .dataframe tbody tr th:only-of-type {\n",
       "        vertical-align: middle;\n",
       "    }\n",
       "\n",
       "    .dataframe tbody tr th {\n",
       "        vertical-align: top;\n",
       "    }\n",
       "\n",
       "    .dataframe thead th {\n",
       "        text-align: right;\n",
       "    }\n",
       "</style>\n",
       "<table border=\"1\" class=\"dataframe\">\n",
       "  <thead>\n",
       "    <tr style=\"text-align: right;\">\n",
       "      <th></th>\n",
       "      <th>num_refill_req_l3m</th>\n",
       "      <th>transport_issue_l1y</th>\n",
       "      <th>Competitor_in_mkt</th>\n",
       "      <th>retail_shop_num</th>\n",
       "      <th>distributor_num</th>\n",
       "      <th>flood_impacted</th>\n",
       "      <th>flood_proof</th>\n",
       "      <th>electric_supply</th>\n",
       "      <th>dist_from_hub</th>\n",
       "      <th>workers_num</th>\n",
       "      <th>wh_est_year</th>\n",
       "      <th>storage_issue_reported_l3m</th>\n",
       "      <th>temp_reg_mach</th>\n",
       "      <th>wh_breakdown_l3m</th>\n",
       "      <th>govt_check_l3m</th>\n",
       "      <th>product_wg_ton</th>\n",
       "    </tr>\n",
       "  </thead>\n",
       "  <tbody>\n",
       "    <tr>\n",
       "      <th>num_refill_req_l3m</th>\n",
       "      <td>1.000000</td>\n",
       "      <td>0.018549</td>\n",
       "      <td>0.002985</td>\n",
       "      <td>-0.001186</td>\n",
       "      <td>0.003995</td>\n",
       "      <td>-0.010548</td>\n",
       "      <td>-0.001123</td>\n",
       "      <td>-0.007959</td>\n",
       "      <td>0.000048</td>\n",
       "      <td>-0.013764</td>\n",
       "      <td>0.015363</td>\n",
       "      <td>-0.006602</td>\n",
       "      <td>0.260928</td>\n",
       "      <td>0.000608</td>\n",
       "      <td>-0.003302</td>\n",
       "      <td>0.001415</td>\n",
       "    </tr>\n",
       "    <tr>\n",
       "      <th>transport_issue_l1y</th>\n",
       "      <td>0.018549</td>\n",
       "      <td>1.000000</td>\n",
       "      <td>-0.005826</td>\n",
       "      <td>-0.001826</td>\n",
       "      <td>0.008993</td>\n",
       "      <td>-0.009596</td>\n",
       "      <td>0.000022</td>\n",
       "      <td>-0.009299</td>\n",
       "      <td>0.014336</td>\n",
       "      <td>-0.009004</td>\n",
       "      <td>-0.012910</td>\n",
       "      <td>-0.144327</td>\n",
       "      <td>0.018207</td>\n",
       "      <td>0.012990</td>\n",
       "      <td>0.002190</td>\n",
       "      <td>-0.173992</td>\n",
       "    </tr>\n",
       "    <tr>\n",
       "      <th>Competitor_in_mkt</th>\n",
       "      <td>0.002985</td>\n",
       "      <td>-0.005826</td>\n",
       "      <td>1.000000</td>\n",
       "      <td>-0.156943</td>\n",
       "      <td>-0.001492</td>\n",
       "      <td>0.009338</td>\n",
       "      <td>-0.003444</td>\n",
       "      <td>0.001759</td>\n",
       "      <td>0.008407</td>\n",
       "      <td>0.000050</td>\n",
       "      <td>-0.011202</td>\n",
       "      <td>0.009543</td>\n",
       "      <td>0.009524</td>\n",
       "      <td>0.012733</td>\n",
       "      <td>-0.043455</td>\n",
       "      <td>0.008884</td>\n",
       "    </tr>\n",
       "    <tr>\n",
       "      <th>retail_shop_num</th>\n",
       "      <td>-0.001186</td>\n",
       "      <td>-0.001826</td>\n",
       "      <td>-0.156943</td>\n",
       "      <td>1.000000</td>\n",
       "      <td>-0.000395</td>\n",
       "      <td>-0.003774</td>\n",
       "      <td>0.007223</td>\n",
       "      <td>-0.009207</td>\n",
       "      <td>0.000429</td>\n",
       "      <td>-0.005406</td>\n",
       "      <td>0.005721</td>\n",
       "      <td>-0.006632</td>\n",
       "      <td>-0.001273</td>\n",
       "      <td>-0.008420</td>\n",
       "      <td>0.045749</td>\n",
       "      <td>-0.006615</td>\n",
       "    </tr>\n",
       "    <tr>\n",
       "      <th>distributor_num</th>\n",
       "      <td>0.003995</td>\n",
       "      <td>0.008993</td>\n",
       "      <td>-0.001492</td>\n",
       "      <td>-0.000395</td>\n",
       "      <td>1.000000</td>\n",
       "      <td>0.004611</td>\n",
       "      <td>-0.003409</td>\n",
       "      <td>0.000454</td>\n",
       "      <td>-0.011838</td>\n",
       "      <td>-0.014682</td>\n",
       "      <td>-0.012295</td>\n",
       "      <td>0.003396</td>\n",
       "      <td>0.002827</td>\n",
       "      <td>0.004286</td>\n",
       "      <td>-0.007934</td>\n",
       "      <td>0.004999</td>\n",
       "    </tr>\n",
       "    <tr>\n",
       "      <th>flood_impacted</th>\n",
       "      <td>-0.010548</td>\n",
       "      <td>-0.009596</td>\n",
       "      <td>0.009338</td>\n",
       "      <td>-0.003774</td>\n",
       "      <td>0.004611</td>\n",
       "      <td>1.000000</td>\n",
       "      <td>0.107015</td>\n",
       "      <td>0.164815</td>\n",
       "      <td>0.000749</td>\n",
       "      <td>0.168425</td>\n",
       "      <td>-0.000668</td>\n",
       "      <td>-0.003157</td>\n",
       "      <td>-0.008554</td>\n",
       "      <td>-0.001744</td>\n",
       "      <td>0.000587</td>\n",
       "      <td>-0.002299</td>\n",
       "    </tr>\n",
       "    <tr>\n",
       "      <th>flood_proof</th>\n",
       "      <td>-0.001123</td>\n",
       "      <td>0.000022</td>\n",
       "      <td>-0.003444</td>\n",
       "      <td>0.007223</td>\n",
       "      <td>-0.003409</td>\n",
       "      <td>0.107015</td>\n",
       "      <td>1.000000</td>\n",
       "      <td>0.114811</td>\n",
       "      <td>-0.005315</td>\n",
       "      <td>0.041228</td>\n",
       "      <td>-0.003329</td>\n",
       "      <td>-0.002712</td>\n",
       "      <td>0.005636</td>\n",
       "      <td>-0.005151</td>\n",
       "      <td>-0.003600</td>\n",
       "      <td>-0.000441</td>\n",
       "    </tr>\n",
       "    <tr>\n",
       "      <th>electric_supply</th>\n",
       "      <td>-0.007959</td>\n",
       "      <td>-0.009299</td>\n",
       "      <td>0.001759</td>\n",
       "      <td>-0.009207</td>\n",
       "      <td>0.000454</td>\n",
       "      <td>0.164815</td>\n",
       "      <td>0.114811</td>\n",
       "      <td>1.000000</td>\n",
       "      <td>-0.002701</td>\n",
       "      <td>0.339990</td>\n",
       "      <td>-0.006577</td>\n",
       "      <td>-0.001877</td>\n",
       "      <td>-0.007600</td>\n",
       "      <td>-0.010371</td>\n",
       "      <td>-0.005234</td>\n",
       "      <td>-0.002160</td>\n",
       "    </tr>\n",
       "    <tr>\n",
       "      <th>dist_from_hub</th>\n",
       "      <td>0.000048</td>\n",
       "      <td>0.014336</td>\n",
       "      <td>0.008407</td>\n",
       "      <td>0.000429</td>\n",
       "      <td>-0.011838</td>\n",
       "      <td>0.000749</td>\n",
       "      <td>-0.005315</td>\n",
       "      <td>-0.002701</td>\n",
       "      <td>1.000000</td>\n",
       "      <td>-0.018565</td>\n",
       "      <td>0.009226</td>\n",
       "      <td>-0.005726</td>\n",
       "      <td>0.000902</td>\n",
       "      <td>-0.000906</td>\n",
       "      <td>-0.000531</td>\n",
       "      <td>-0.005017</td>\n",
       "    </tr>\n",
       "    <tr>\n",
       "      <th>workers_num</th>\n",
       "      <td>-0.013764</td>\n",
       "      <td>-0.009004</td>\n",
       "      <td>0.000050</td>\n",
       "      <td>-0.005406</td>\n",
       "      <td>-0.014682</td>\n",
       "      <td>0.168425</td>\n",
       "      <td>0.041228</td>\n",
       "      <td>0.339990</td>\n",
       "      <td>-0.018565</td>\n",
       "      <td>1.000000</td>\n",
       "      <td>0.004383</td>\n",
       "      <td>-0.008673</td>\n",
       "      <td>0.001419</td>\n",
       "      <td>-0.017877</td>\n",
       "      <td>-0.003137</td>\n",
       "      <td>-0.008346</td>\n",
       "    </tr>\n",
       "    <tr>\n",
       "      <th>wh_est_year</th>\n",
       "      <td>0.015363</td>\n",
       "      <td>-0.012910</td>\n",
       "      <td>-0.011202</td>\n",
       "      <td>0.005721</td>\n",
       "      <td>-0.012295</td>\n",
       "      <td>-0.000668</td>\n",
       "      <td>-0.003329</td>\n",
       "      <td>-0.006577</td>\n",
       "      <td>0.009226</td>\n",
       "      <td>0.004383</td>\n",
       "      <td>1.000000</td>\n",
       "      <td>-0.858678</td>\n",
       "      <td>-0.047503</td>\n",
       "      <td>-0.398801</td>\n",
       "      <td>0.005285</td>\n",
       "      <td>-0.829118</td>\n",
       "    </tr>\n",
       "    <tr>\n",
       "      <th>storage_issue_reported_l3m</th>\n",
       "      <td>-0.006602</td>\n",
       "      <td>-0.144327</td>\n",
       "      <td>0.009543</td>\n",
       "      <td>-0.006632</td>\n",
       "      <td>0.003396</td>\n",
       "      <td>-0.003157</td>\n",
       "      <td>-0.002712</td>\n",
       "      <td>-0.001877</td>\n",
       "      <td>-0.005726</td>\n",
       "      <td>-0.008673</td>\n",
       "      <td>-0.858678</td>\n",
       "      <td>1.000000</td>\n",
       "      <td>0.067309</td>\n",
       "      <td>0.376986</td>\n",
       "      <td>-0.007602</td>\n",
       "      <td>0.986777</td>\n",
       "    </tr>\n",
       "    <tr>\n",
       "      <th>temp_reg_mach</th>\n",
       "      <td>0.260928</td>\n",
       "      <td>0.018207</td>\n",
       "      <td>0.009524</td>\n",
       "      <td>-0.001273</td>\n",
       "      <td>0.002827</td>\n",
       "      <td>-0.008554</td>\n",
       "      <td>0.005636</td>\n",
       "      <td>-0.007600</td>\n",
       "      <td>0.000902</td>\n",
       "      <td>0.001419</td>\n",
       "      <td>-0.047503</td>\n",
       "      <td>0.067309</td>\n",
       "      <td>1.000000</td>\n",
       "      <td>0.059160</td>\n",
       "      <td>0.003944</td>\n",
       "      <td>0.101638</td>\n",
       "    </tr>\n",
       "    <tr>\n",
       "      <th>wh_breakdown_l3m</th>\n",
       "      <td>0.000608</td>\n",
       "      <td>0.012990</td>\n",
       "      <td>0.012733</td>\n",
       "      <td>-0.008420</td>\n",
       "      <td>0.004286</td>\n",
       "      <td>-0.001744</td>\n",
       "      <td>-0.005151</td>\n",
       "      <td>-0.010371</td>\n",
       "      <td>-0.000906</td>\n",
       "      <td>-0.017877</td>\n",
       "      <td>-0.398801</td>\n",
       "      <td>0.376986</td>\n",
       "      <td>0.059160</td>\n",
       "      <td>1.000000</td>\n",
       "      <td>-0.013273</td>\n",
       "      <td>0.342685</td>\n",
       "    </tr>\n",
       "    <tr>\n",
       "      <th>govt_check_l3m</th>\n",
       "      <td>-0.003302</td>\n",
       "      <td>0.002190</td>\n",
       "      <td>-0.043455</td>\n",
       "      <td>0.045749</td>\n",
       "      <td>-0.007934</td>\n",
       "      <td>0.000587</td>\n",
       "      <td>-0.003600</td>\n",
       "      <td>-0.005234</td>\n",
       "      <td>-0.000531</td>\n",
       "      <td>-0.003137</td>\n",
       "      <td>0.005285</td>\n",
       "      <td>-0.007602</td>\n",
       "      <td>0.003944</td>\n",
       "      <td>-0.013273</td>\n",
       "      <td>1.000000</td>\n",
       "      <td>-0.008500</td>\n",
       "    </tr>\n",
       "    <tr>\n",
       "      <th>product_wg_ton</th>\n",
       "      <td>0.001415</td>\n",
       "      <td>-0.173992</td>\n",
       "      <td>0.008884</td>\n",
       "      <td>-0.006615</td>\n",
       "      <td>0.004999</td>\n",
       "      <td>-0.002299</td>\n",
       "      <td>-0.000441</td>\n",
       "      <td>-0.002160</td>\n",
       "      <td>-0.005017</td>\n",
       "      <td>-0.008346</td>\n",
       "      <td>-0.829118</td>\n",
       "      <td>0.986777</td>\n",
       "      <td>0.101638</td>\n",
       "      <td>0.342685</td>\n",
       "      <td>-0.008500</td>\n",
       "      <td>1.000000</td>\n",
       "    </tr>\n",
       "  </tbody>\n",
       "</table>\n",
       "</div>"
      ],
      "text/plain": [
       "                            num_refill_req_l3m  transport_issue_l1y  \\\n",
       "num_refill_req_l3m                    1.000000             0.018549   \n",
       "transport_issue_l1y                   0.018549             1.000000   \n",
       "Competitor_in_mkt                     0.002985            -0.005826   \n",
       "retail_shop_num                      -0.001186            -0.001826   \n",
       "distributor_num                       0.003995             0.008993   \n",
       "flood_impacted                       -0.010548            -0.009596   \n",
       "flood_proof                          -0.001123             0.000022   \n",
       "electric_supply                      -0.007959            -0.009299   \n",
       "dist_from_hub                         0.000048             0.014336   \n",
       "workers_num                          -0.013764            -0.009004   \n",
       "wh_est_year                           0.015363            -0.012910   \n",
       "storage_issue_reported_l3m           -0.006602            -0.144327   \n",
       "temp_reg_mach                         0.260928             0.018207   \n",
       "wh_breakdown_l3m                      0.000608             0.012990   \n",
       "govt_check_l3m                       -0.003302             0.002190   \n",
       "product_wg_ton                        0.001415            -0.173992   \n",
       "\n",
       "                            Competitor_in_mkt  retail_shop_num  \\\n",
       "num_refill_req_l3m                   0.002985        -0.001186   \n",
       "transport_issue_l1y                 -0.005826        -0.001826   \n",
       "Competitor_in_mkt                    1.000000        -0.156943   \n",
       "retail_shop_num                     -0.156943         1.000000   \n",
       "distributor_num                     -0.001492        -0.000395   \n",
       "flood_impacted                       0.009338        -0.003774   \n",
       "flood_proof                         -0.003444         0.007223   \n",
       "electric_supply                      0.001759        -0.009207   \n",
       "dist_from_hub                        0.008407         0.000429   \n",
       "workers_num                          0.000050        -0.005406   \n",
       "wh_est_year                         -0.011202         0.005721   \n",
       "storage_issue_reported_l3m           0.009543        -0.006632   \n",
       "temp_reg_mach                        0.009524        -0.001273   \n",
       "wh_breakdown_l3m                     0.012733        -0.008420   \n",
       "govt_check_l3m                      -0.043455         0.045749   \n",
       "product_wg_ton                       0.008884        -0.006615   \n",
       "\n",
       "                            distributor_num  flood_impacted  flood_proof  \\\n",
       "num_refill_req_l3m                 0.003995       -0.010548    -0.001123   \n",
       "transport_issue_l1y                0.008993       -0.009596     0.000022   \n",
       "Competitor_in_mkt                 -0.001492        0.009338    -0.003444   \n",
       "retail_shop_num                   -0.000395       -0.003774     0.007223   \n",
       "distributor_num                    1.000000        0.004611    -0.003409   \n",
       "flood_impacted                     0.004611        1.000000     0.107015   \n",
       "flood_proof                       -0.003409        0.107015     1.000000   \n",
       "electric_supply                    0.000454        0.164815     0.114811   \n",
       "dist_from_hub                     -0.011838        0.000749    -0.005315   \n",
       "workers_num                       -0.014682        0.168425     0.041228   \n",
       "wh_est_year                       -0.012295       -0.000668    -0.003329   \n",
       "storage_issue_reported_l3m         0.003396       -0.003157    -0.002712   \n",
       "temp_reg_mach                      0.002827       -0.008554     0.005636   \n",
       "wh_breakdown_l3m                   0.004286       -0.001744    -0.005151   \n",
       "govt_check_l3m                    -0.007934        0.000587    -0.003600   \n",
       "product_wg_ton                     0.004999       -0.002299    -0.000441   \n",
       "\n",
       "                            electric_supply  dist_from_hub  workers_num  \\\n",
       "num_refill_req_l3m                -0.007959       0.000048    -0.013764   \n",
       "transport_issue_l1y               -0.009299       0.014336    -0.009004   \n",
       "Competitor_in_mkt                  0.001759       0.008407     0.000050   \n",
       "retail_shop_num                   -0.009207       0.000429    -0.005406   \n",
       "distributor_num                    0.000454      -0.011838    -0.014682   \n",
       "flood_impacted                     0.164815       0.000749     0.168425   \n",
       "flood_proof                        0.114811      -0.005315     0.041228   \n",
       "electric_supply                    1.000000      -0.002701     0.339990   \n",
       "dist_from_hub                     -0.002701       1.000000    -0.018565   \n",
       "workers_num                        0.339990      -0.018565     1.000000   \n",
       "wh_est_year                       -0.006577       0.009226     0.004383   \n",
       "storage_issue_reported_l3m        -0.001877      -0.005726    -0.008673   \n",
       "temp_reg_mach                     -0.007600       0.000902     0.001419   \n",
       "wh_breakdown_l3m                  -0.010371      -0.000906    -0.017877   \n",
       "govt_check_l3m                    -0.005234      -0.000531    -0.003137   \n",
       "product_wg_ton                    -0.002160      -0.005017    -0.008346   \n",
       "\n",
       "                            wh_est_year  storage_issue_reported_l3m  \\\n",
       "num_refill_req_l3m             0.015363                   -0.006602   \n",
       "transport_issue_l1y           -0.012910                   -0.144327   \n",
       "Competitor_in_mkt             -0.011202                    0.009543   \n",
       "retail_shop_num                0.005721                   -0.006632   \n",
       "distributor_num               -0.012295                    0.003396   \n",
       "flood_impacted                -0.000668                   -0.003157   \n",
       "flood_proof                   -0.003329                   -0.002712   \n",
       "electric_supply               -0.006577                   -0.001877   \n",
       "dist_from_hub                  0.009226                   -0.005726   \n",
       "workers_num                    0.004383                   -0.008673   \n",
       "wh_est_year                    1.000000                   -0.858678   \n",
       "storage_issue_reported_l3m    -0.858678                    1.000000   \n",
       "temp_reg_mach                 -0.047503                    0.067309   \n",
       "wh_breakdown_l3m              -0.398801                    0.376986   \n",
       "govt_check_l3m                 0.005285                   -0.007602   \n",
       "product_wg_ton                -0.829118                    0.986777   \n",
       "\n",
       "                            temp_reg_mach  wh_breakdown_l3m  govt_check_l3m  \\\n",
       "num_refill_req_l3m               0.260928          0.000608       -0.003302   \n",
       "transport_issue_l1y              0.018207          0.012990        0.002190   \n",
       "Competitor_in_mkt                0.009524          0.012733       -0.043455   \n",
       "retail_shop_num                 -0.001273         -0.008420        0.045749   \n",
       "distributor_num                  0.002827          0.004286       -0.007934   \n",
       "flood_impacted                  -0.008554         -0.001744        0.000587   \n",
       "flood_proof                      0.005636         -0.005151       -0.003600   \n",
       "electric_supply                 -0.007600         -0.010371       -0.005234   \n",
       "dist_from_hub                    0.000902         -0.000906       -0.000531   \n",
       "workers_num                      0.001419         -0.017877       -0.003137   \n",
       "wh_est_year                     -0.047503         -0.398801        0.005285   \n",
       "storage_issue_reported_l3m       0.067309          0.376986       -0.007602   \n",
       "temp_reg_mach                    1.000000          0.059160        0.003944   \n",
       "wh_breakdown_l3m                 0.059160          1.000000       -0.013273   \n",
       "govt_check_l3m                   0.003944         -0.013273        1.000000   \n",
       "product_wg_ton                   0.101638          0.342685       -0.008500   \n",
       "\n",
       "                            product_wg_ton  \n",
       "num_refill_req_l3m                0.001415  \n",
       "transport_issue_l1y              -0.173992  \n",
       "Competitor_in_mkt                 0.008884  \n",
       "retail_shop_num                  -0.006615  \n",
       "distributor_num                   0.004999  \n",
       "flood_impacted                   -0.002299  \n",
       "flood_proof                      -0.000441  \n",
       "electric_supply                  -0.002160  \n",
       "dist_from_hub                    -0.005017  \n",
       "workers_num                      -0.008346  \n",
       "wh_est_year                      -0.829118  \n",
       "storage_issue_reported_l3m        0.986777  \n",
       "temp_reg_mach                     0.101638  \n",
       "wh_breakdown_l3m                  0.342685  \n",
       "govt_check_l3m                   -0.008500  \n",
       "product_wg_ton                    1.000000  "
      ]
     },
     "execution_count": 5,
     "metadata": {},
     "output_type": "execute_result"
    }
   ],
   "source": [
    "df.corr()"
   ]
  },
  {
   "cell_type": "markdown",
   "id": "30e4e996",
   "metadata": {
    "papermill": {
     "duration": 0.014444,
     "end_time": "2023-07-07T04:51:03.040072",
     "exception": false,
     "start_time": "2023-07-07T04:51:03.025628",
     "status": "completed"
    },
    "tags": []
   },
   "source": [
    "# Dropping the rows having null values in wh_est_year"
   ]
  },
  {
   "cell_type": "code",
   "execution_count": 6,
   "id": "d291757b",
   "metadata": {
    "execution": {
     "iopub.execute_input": "2023-07-07T04:51:03.072360Z",
     "iopub.status.busy": "2023-07-07T04:51:03.071864Z",
     "iopub.status.idle": "2023-07-07T04:51:03.084876Z",
     "shell.execute_reply": "2023-07-07T04:51:03.083383Z"
    },
    "papermill": {
     "duration": 0.032408,
     "end_time": "2023-07-07T04:51:03.087682",
     "exception": false,
     "start_time": "2023-07-07T04:51:03.055274",
     "status": "completed"
    },
    "tags": []
   },
   "outputs": [],
   "source": [
    "df.dropna(subset=['wh_est_year'],inplace=True)"
   ]
  },
  {
   "cell_type": "markdown",
   "id": "45f8bfd5",
   "metadata": {
    "papermill": {
     "duration": 0.01544,
     "end_time": "2023-07-07T04:51:03.118526",
     "exception": false,
     "start_time": "2023-07-07T04:51:03.103086",
     "status": "completed"
    },
    "tags": []
   },
   "source": [
    "# Checking for left out features with missing values "
   ]
  },
  {
   "cell_type": "code",
   "execution_count": 7,
   "id": "9fbe2981",
   "metadata": {
    "execution": {
     "iopub.execute_input": "2023-07-07T04:51:03.149749Z",
     "iopub.status.busy": "2023-07-07T04:51:03.149351Z",
     "iopub.status.idle": "2023-07-07T04:51:03.178052Z",
     "shell.execute_reply": "2023-07-07T04:51:03.176963Z"
    },
    "papermill": {
     "duration": 0.04771,
     "end_time": "2023-07-07T04:51:03.180889",
     "exception": false,
     "start_time": "2023-07-07T04:51:03.133179",
     "status": "completed"
    },
    "tags": []
   },
   "outputs": [
    {
     "name": "stdout",
     "output_type": "stream",
     "text": [
      "<class 'pandas.core.frame.DataFrame'>\n",
      "Int64Index: 13119 entries, 4 to 24999\n",
      "Data columns (total 24 columns):\n",
      " #   Column                        Non-Null Count  Dtype  \n",
      "---  ------                        --------------  -----  \n",
      " 0   Ware_house_ID                 13119 non-null  object \n",
      " 1   WH_Manager_ID                 13119 non-null  object \n",
      " 2   Location_type                 13119 non-null  object \n",
      " 3   WH_capacity_size              13119 non-null  object \n",
      " 4   zone                          13119 non-null  object \n",
      " 5   WH_regional_zone              13119 non-null  object \n",
      " 6   num_refill_req_l3m            13119 non-null  int64  \n",
      " 7   transport_issue_l1y           13119 non-null  int64  \n",
      " 8   Competitor_in_mkt             13119 non-null  int64  \n",
      " 9   retail_shop_num               13119 non-null  int64  \n",
      " 10  wh_owner_type                 13119 non-null  object \n",
      " 11  distributor_num               13119 non-null  int64  \n",
      " 12  flood_impacted                13119 non-null  int64  \n",
      " 13  flood_proof                   13119 non-null  int64  \n",
      " 14  electric_supply               13119 non-null  int64  \n",
      " 15  dist_from_hub                 13119 non-null  int64  \n",
      " 16  workers_num                   12581 non-null  float64\n",
      " 17  wh_est_year                   13119 non-null  float64\n",
      " 18  storage_issue_reported_l3m    13119 non-null  int64  \n",
      " 19  temp_reg_mach                 13119 non-null  int64  \n",
      " 20  approved_wh_govt_certificate  12646 non-null  object \n",
      " 21  wh_breakdown_l3m              13119 non-null  int64  \n",
      " 22  govt_check_l3m                13119 non-null  int64  \n",
      " 23  product_wg_ton                13119 non-null  int64  \n",
      "dtypes: float64(2), int64(14), object(8)\n",
      "memory usage: 2.5+ MB\n"
     ]
    }
   ],
   "source": [
    "df.info()"
   ]
  },
  {
   "cell_type": "markdown",
   "id": "ea6bffe5",
   "metadata": {
    "papermill": {
     "duration": 0.014357,
     "end_time": "2023-07-07T04:51:03.210070",
     "exception": false,
     "start_time": "2023-07-07T04:51:03.195713",
     "status": "completed"
    },
    "tags": []
   },
   "source": [
    "# Analysing the null values "
   ]
  },
  {
   "cell_type": "code",
   "execution_count": 8,
   "id": "a97117a6",
   "metadata": {
    "execution": {
     "iopub.execute_input": "2023-07-07T04:51:03.241426Z",
     "iopub.status.busy": "2023-07-07T04:51:03.241011Z",
     "iopub.status.idle": "2023-07-07T04:51:03.258987Z",
     "shell.execute_reply": "2023-07-07T04:51:03.257920Z"
    },
    "papermill": {
     "duration": 0.036685,
     "end_time": "2023-07-07T04:51:03.261506",
     "exception": false,
     "start_time": "2023-07-07T04:51:03.224821",
     "status": "completed"
    },
    "tags": []
   },
   "outputs": [
    {
     "data": {
      "text/html": [
       "<div>\n",
       "<style scoped>\n",
       "    .dataframe tbody tr th:only-of-type {\n",
       "        vertical-align: middle;\n",
       "    }\n",
       "\n",
       "    .dataframe tbody tr th {\n",
       "        vertical-align: top;\n",
       "    }\n",
       "\n",
       "    .dataframe thead th {\n",
       "        text-align: right;\n",
       "    }\n",
       "</style>\n",
       "<table border=\"1\" class=\"dataframe\">\n",
       "  <thead>\n",
       "    <tr style=\"text-align: right;\">\n",
       "      <th></th>\n",
       "      <th>workers_num</th>\n",
       "      <th>approved_wh_govt_certificate</th>\n",
       "    </tr>\n",
       "  </thead>\n",
       "  <tbody>\n",
       "    <tr>\n",
       "      <th>4</th>\n",
       "      <td>25.0</td>\n",
       "      <td>C</td>\n",
       "    </tr>\n",
       "    <tr>\n",
       "      <th>5</th>\n",
       "      <td>35.0</td>\n",
       "      <td>A+</td>\n",
       "    </tr>\n",
       "    <tr>\n",
       "      <th>6</th>\n",
       "      <td>27.0</td>\n",
       "      <td>B</td>\n",
       "    </tr>\n",
       "    <tr>\n",
       "      <th>8</th>\n",
       "      <td>22.0</td>\n",
       "      <td>A+</td>\n",
       "    </tr>\n",
       "    <tr>\n",
       "      <th>10</th>\n",
       "      <td>37.0</td>\n",
       "      <td>B+</td>\n",
       "    </tr>\n",
       "    <tr>\n",
       "      <th>11</th>\n",
       "      <td>16.0</td>\n",
       "      <td>B</td>\n",
       "    </tr>\n",
       "    <tr>\n",
       "      <th>12</th>\n",
       "      <td>28.0</td>\n",
       "      <td>B+</td>\n",
       "    </tr>\n",
       "    <tr>\n",
       "      <th>13</th>\n",
       "      <td>36.0</td>\n",
       "      <td>A</td>\n",
       "    </tr>\n",
       "    <tr>\n",
       "      <th>18</th>\n",
       "      <td>22.0</td>\n",
       "      <td>A+</td>\n",
       "    </tr>\n",
       "    <tr>\n",
       "      <th>20</th>\n",
       "      <td>41.0</td>\n",
       "      <td>B+</td>\n",
       "    </tr>\n",
       "    <tr>\n",
       "      <th>21</th>\n",
       "      <td>31.0</td>\n",
       "      <td>B+</td>\n",
       "    </tr>\n",
       "    <tr>\n",
       "      <th>22</th>\n",
       "      <td>24.0</td>\n",
       "      <td>C</td>\n",
       "    </tr>\n",
       "    <tr>\n",
       "      <th>23</th>\n",
       "      <td>37.0</td>\n",
       "      <td>C</td>\n",
       "    </tr>\n",
       "    <tr>\n",
       "      <th>25</th>\n",
       "      <td>31.0</td>\n",
       "      <td>B</td>\n",
       "    </tr>\n",
       "    <tr>\n",
       "      <th>29</th>\n",
       "      <td>24.0</td>\n",
       "      <td>A</td>\n",
       "    </tr>\n",
       "    <tr>\n",
       "      <th>30</th>\n",
       "      <td>17.0</td>\n",
       "      <td>B+</td>\n",
       "    </tr>\n",
       "    <tr>\n",
       "      <th>31</th>\n",
       "      <td>19.0</td>\n",
       "      <td>B+</td>\n",
       "    </tr>\n",
       "    <tr>\n",
       "      <th>32</th>\n",
       "      <td>29.0</td>\n",
       "      <td>A</td>\n",
       "    </tr>\n",
       "    <tr>\n",
       "      <th>33</th>\n",
       "      <td>24.0</td>\n",
       "      <td>A+</td>\n",
       "    </tr>\n",
       "    <tr>\n",
       "      <th>34</th>\n",
       "      <td>46.0</td>\n",
       "      <td>C</td>\n",
       "    </tr>\n",
       "    <tr>\n",
       "      <th>36</th>\n",
       "      <td>24.0</td>\n",
       "      <td>B</td>\n",
       "    </tr>\n",
       "    <tr>\n",
       "      <th>38</th>\n",
       "      <td>33.0</td>\n",
       "      <td>NaN</td>\n",
       "    </tr>\n",
       "    <tr>\n",
       "      <th>39</th>\n",
       "      <td>43.0</td>\n",
       "      <td>B</td>\n",
       "    </tr>\n",
       "    <tr>\n",
       "      <th>40</th>\n",
       "      <td>32.0</td>\n",
       "      <td>C</td>\n",
       "    </tr>\n",
       "    <tr>\n",
       "      <th>43</th>\n",
       "      <td>28.0</td>\n",
       "      <td>C</td>\n",
       "    </tr>\n",
       "    <tr>\n",
       "      <th>44</th>\n",
       "      <td>20.0</td>\n",
       "      <td>B</td>\n",
       "    </tr>\n",
       "    <tr>\n",
       "      <th>45</th>\n",
       "      <td>38.0</td>\n",
       "      <td>A+</td>\n",
       "    </tr>\n",
       "    <tr>\n",
       "      <th>47</th>\n",
       "      <td>39.0</td>\n",
       "      <td>A</td>\n",
       "    </tr>\n",
       "    <tr>\n",
       "      <th>49</th>\n",
       "      <td>26.0</td>\n",
       "      <td>A+</td>\n",
       "    </tr>\n",
       "    <tr>\n",
       "      <th>50</th>\n",
       "      <td>23.0</td>\n",
       "      <td>A+</td>\n",
       "    </tr>\n",
       "    <tr>\n",
       "      <th>52</th>\n",
       "      <td>31.0</td>\n",
       "      <td>B+</td>\n",
       "    </tr>\n",
       "    <tr>\n",
       "      <th>53</th>\n",
       "      <td>19.0</td>\n",
       "      <td>A</td>\n",
       "    </tr>\n",
       "    <tr>\n",
       "      <th>54</th>\n",
       "      <td>27.0</td>\n",
       "      <td>A+</td>\n",
       "    </tr>\n",
       "    <tr>\n",
       "      <th>55</th>\n",
       "      <td>24.0</td>\n",
       "      <td>B+</td>\n",
       "    </tr>\n",
       "    <tr>\n",
       "      <th>56</th>\n",
       "      <td>20.0</td>\n",
       "      <td>B+</td>\n",
       "    </tr>\n",
       "    <tr>\n",
       "      <th>59</th>\n",
       "      <td>34.0</td>\n",
       "      <td>A</td>\n",
       "    </tr>\n",
       "    <tr>\n",
       "      <th>60</th>\n",
       "      <td>17.0</td>\n",
       "      <td>B+</td>\n",
       "    </tr>\n",
       "    <tr>\n",
       "      <th>62</th>\n",
       "      <td>29.0</td>\n",
       "      <td>A+</td>\n",
       "    </tr>\n",
       "    <tr>\n",
       "      <th>63</th>\n",
       "      <td>26.0</td>\n",
       "      <td>A+</td>\n",
       "    </tr>\n",
       "    <tr>\n",
       "      <th>65</th>\n",
       "      <td>32.0</td>\n",
       "      <td>B+</td>\n",
       "    </tr>\n",
       "    <tr>\n",
       "      <th>66</th>\n",
       "      <td>22.0</td>\n",
       "      <td>C</td>\n",
       "    </tr>\n",
       "    <tr>\n",
       "      <th>68</th>\n",
       "      <td>19.0</td>\n",
       "      <td>B+</td>\n",
       "    </tr>\n",
       "    <tr>\n",
       "      <th>72</th>\n",
       "      <td>29.0</td>\n",
       "      <td>B+</td>\n",
       "    </tr>\n",
       "    <tr>\n",
       "      <th>75</th>\n",
       "      <td>28.0</td>\n",
       "      <td>A</td>\n",
       "    </tr>\n",
       "    <tr>\n",
       "      <th>80</th>\n",
       "      <td>25.0</td>\n",
       "      <td>B</td>\n",
       "    </tr>\n",
       "    <tr>\n",
       "      <th>84</th>\n",
       "      <td>32.0</td>\n",
       "      <td>C</td>\n",
       "    </tr>\n",
       "    <tr>\n",
       "      <th>85</th>\n",
       "      <td>31.0</td>\n",
       "      <td>B+</td>\n",
       "    </tr>\n",
       "    <tr>\n",
       "      <th>86</th>\n",
       "      <td>37.0</td>\n",
       "      <td>A+</td>\n",
       "    </tr>\n",
       "    <tr>\n",
       "      <th>87</th>\n",
       "      <td>33.0</td>\n",
       "      <td>B</td>\n",
       "    </tr>\n",
       "    <tr>\n",
       "      <th>89</th>\n",
       "      <td>43.0</td>\n",
       "      <td>B</td>\n",
       "    </tr>\n",
       "    <tr>\n",
       "      <th>91</th>\n",
       "      <td>28.0</td>\n",
       "      <td>B+</td>\n",
       "    </tr>\n",
       "    <tr>\n",
       "      <th>96</th>\n",
       "      <td>23.0</td>\n",
       "      <td>C</td>\n",
       "    </tr>\n",
       "    <tr>\n",
       "      <th>99</th>\n",
       "      <td>27.0</td>\n",
       "      <td>NaN</td>\n",
       "    </tr>\n",
       "    <tr>\n",
       "      <th>100</th>\n",
       "      <td>39.0</td>\n",
       "      <td>B</td>\n",
       "    </tr>\n",
       "    <tr>\n",
       "      <th>103</th>\n",
       "      <td>32.0</td>\n",
       "      <td>B+</td>\n",
       "    </tr>\n",
       "    <tr>\n",
       "      <th>105</th>\n",
       "      <td>24.0</td>\n",
       "      <td>A+</td>\n",
       "    </tr>\n",
       "    <tr>\n",
       "      <th>106</th>\n",
       "      <td>29.0</td>\n",
       "      <td>B</td>\n",
       "    </tr>\n",
       "    <tr>\n",
       "      <th>107</th>\n",
       "      <td>20.0</td>\n",
       "      <td>C</td>\n",
       "    </tr>\n",
       "    <tr>\n",
       "      <th>108</th>\n",
       "      <td>25.0</td>\n",
       "      <td>C</td>\n",
       "    </tr>\n",
       "    <tr>\n",
       "      <th>114</th>\n",
       "      <td>31.0</td>\n",
       "      <td>A+</td>\n",
       "    </tr>\n",
       "  </tbody>\n",
       "</table>\n",
       "</div>"
      ],
      "text/plain": [
       "     workers_num approved_wh_govt_certificate\n",
       "4           25.0                            C\n",
       "5           35.0                           A+\n",
       "6           27.0                            B\n",
       "8           22.0                           A+\n",
       "10          37.0                           B+\n",
       "11          16.0                            B\n",
       "12          28.0                           B+\n",
       "13          36.0                            A\n",
       "18          22.0                           A+\n",
       "20          41.0                           B+\n",
       "21          31.0                           B+\n",
       "22          24.0                            C\n",
       "23          37.0                            C\n",
       "25          31.0                            B\n",
       "29          24.0                            A\n",
       "30          17.0                           B+\n",
       "31          19.0                           B+\n",
       "32          29.0                            A\n",
       "33          24.0                           A+\n",
       "34          46.0                            C\n",
       "36          24.0                            B\n",
       "38          33.0                          NaN\n",
       "39          43.0                            B\n",
       "40          32.0                            C\n",
       "43          28.0                            C\n",
       "44          20.0                            B\n",
       "45          38.0                           A+\n",
       "47          39.0                            A\n",
       "49          26.0                           A+\n",
       "50          23.0                           A+\n",
       "52          31.0                           B+\n",
       "53          19.0                            A\n",
       "54          27.0                           A+\n",
       "55          24.0                           B+\n",
       "56          20.0                           B+\n",
       "59          34.0                            A\n",
       "60          17.0                           B+\n",
       "62          29.0                           A+\n",
       "63          26.0                           A+\n",
       "65          32.0                           B+\n",
       "66          22.0                            C\n",
       "68          19.0                           B+\n",
       "72          29.0                           B+\n",
       "75          28.0                            A\n",
       "80          25.0                            B\n",
       "84          32.0                            C\n",
       "85          31.0                           B+\n",
       "86          37.0                           A+\n",
       "87          33.0                            B\n",
       "89          43.0                            B\n",
       "91          28.0                           B+\n",
       "96          23.0                            C\n",
       "99          27.0                          NaN\n",
       "100         39.0                            B\n",
       "103         32.0                           B+\n",
       "105         24.0                           A+\n",
       "106         29.0                            B\n",
       "107         20.0                            C\n",
       "108         25.0                            C\n",
       "114         31.0                           A+"
      ]
     },
     "execution_count": 8,
     "metadata": {},
     "output_type": "execute_result"
    }
   ],
   "source": [
    "df.loc[:,['workers_num','approved_wh_govt_certificate']].head(60)"
   ]
  },
  {
   "cell_type": "markdown",
   "id": "36a26328",
   "metadata": {
    "papermill": {
     "duration": 0.016458,
     "end_time": "2023-07-07T04:51:03.294311",
     "exception": false,
     "start_time": "2023-07-07T04:51:03.277853",
     "status": "completed"
    },
    "tags": []
   },
   "source": [
    "# Dropping the rows with this feature having null values "
   ]
  },
  {
   "cell_type": "code",
   "execution_count": 9,
   "id": "652414fa",
   "metadata": {
    "execution": {
     "iopub.execute_input": "2023-07-07T04:51:03.329251Z",
     "iopub.status.busy": "2023-07-07T04:51:03.328838Z",
     "iopub.status.idle": "2023-07-07T04:51:03.342982Z",
     "shell.execute_reply": "2023-07-07T04:51:03.341668Z"
    },
    "papermill": {
     "duration": 0.033651,
     "end_time": "2023-07-07T04:51:03.345659",
     "exception": false,
     "start_time": "2023-07-07T04:51:03.312008",
     "status": "completed"
    },
    "tags": []
   },
   "outputs": [],
   "source": [
    "df.dropna(subset=['approved_wh_govt_certificate'],inplace=True)"
   ]
  },
  {
   "cell_type": "markdown",
   "id": "591f435a",
   "metadata": {
    "papermill": {
     "duration": 0.014299,
     "end_time": "2023-07-07T04:51:03.375005",
     "exception": false,
     "start_time": "2023-07-07T04:51:03.360706",
     "status": "completed"
    },
    "tags": []
   },
   "source": [
    "# Looking for more such features "
   ]
  },
  {
   "cell_type": "code",
   "execution_count": 10,
   "id": "deaf4b91",
   "metadata": {
    "execution": {
     "iopub.execute_input": "2023-07-07T04:51:03.406393Z",
     "iopub.status.busy": "2023-07-07T04:51:03.405985Z",
     "iopub.status.idle": "2023-07-07T04:51:03.433893Z",
     "shell.execute_reply": "2023-07-07T04:51:03.433132Z"
    },
    "papermill": {
     "duration": 0.047132,
     "end_time": "2023-07-07T04:51:03.436893",
     "exception": false,
     "start_time": "2023-07-07T04:51:03.389761",
     "status": "completed"
    },
    "tags": []
   },
   "outputs": [
    {
     "name": "stdout",
     "output_type": "stream",
     "text": [
      "<class 'pandas.core.frame.DataFrame'>\n",
      "Int64Index: 12646 entries, 4 to 24999\n",
      "Data columns (total 24 columns):\n",
      " #   Column                        Non-Null Count  Dtype  \n",
      "---  ------                        --------------  -----  \n",
      " 0   Ware_house_ID                 12646 non-null  object \n",
      " 1   WH_Manager_ID                 12646 non-null  object \n",
      " 2   Location_type                 12646 non-null  object \n",
      " 3   WH_capacity_size              12646 non-null  object \n",
      " 4   zone                          12646 non-null  object \n",
      " 5   WH_regional_zone              12646 non-null  object \n",
      " 6   num_refill_req_l3m            12646 non-null  int64  \n",
      " 7   transport_issue_l1y           12646 non-null  int64  \n",
      " 8   Competitor_in_mkt             12646 non-null  int64  \n",
      " 9   retail_shop_num               12646 non-null  int64  \n",
      " 10  wh_owner_type                 12646 non-null  object \n",
      " 11  distributor_num               12646 non-null  int64  \n",
      " 12  flood_impacted                12646 non-null  int64  \n",
      " 13  flood_proof                   12646 non-null  int64  \n",
      " 14  electric_supply               12646 non-null  int64  \n",
      " 15  dist_from_hub                 12646 non-null  int64  \n",
      " 16  workers_num                   12127 non-null  float64\n",
      " 17  wh_est_year                   12646 non-null  float64\n",
      " 18  storage_issue_reported_l3m    12646 non-null  int64  \n",
      " 19  temp_reg_mach                 12646 non-null  int64  \n",
      " 20  approved_wh_govt_certificate  12646 non-null  object \n",
      " 21  wh_breakdown_l3m              12646 non-null  int64  \n",
      " 22  govt_check_l3m                12646 non-null  int64  \n",
      " 23  product_wg_ton                12646 non-null  int64  \n",
      "dtypes: float64(2), int64(14), object(8)\n",
      "memory usage: 2.4+ MB\n"
     ]
    }
   ],
   "source": [
    "df.info()"
   ]
  },
  {
   "cell_type": "markdown",
   "id": "0f4d8beb",
   "metadata": {
    "papermill": {
     "duration": 0.014565,
     "end_time": "2023-07-07T04:51:03.466762",
     "exception": false,
     "start_time": "2023-07-07T04:51:03.452197",
     "status": "completed"
    },
    "tags": []
   },
   "source": [
    "# Locating null values for this feature."
   ]
  },
  {
   "cell_type": "code",
   "execution_count": 11,
   "id": "21e8b3a4",
   "metadata": {
    "execution": {
     "iopub.execute_input": "2023-07-07T04:51:03.498768Z",
     "iopub.status.busy": "2023-07-07T04:51:03.498397Z",
     "iopub.status.idle": "2023-07-07T04:51:03.514995Z",
     "shell.execute_reply": "2023-07-07T04:51:03.514117Z"
    },
    "papermill": {
     "duration": 0.035334,
     "end_time": "2023-07-07T04:51:03.516909",
     "exception": false,
     "start_time": "2023-07-07T04:51:03.481575",
     "status": "completed"
    },
    "tags": []
   },
   "outputs": [
    {
     "data": {
      "text/html": [
       "<div>\n",
       "<style scoped>\n",
       "    .dataframe tbody tr th:only-of-type {\n",
       "        vertical-align: middle;\n",
       "    }\n",
       "\n",
       "    .dataframe tbody tr th {\n",
       "        vertical-align: top;\n",
       "    }\n",
       "\n",
       "    .dataframe thead th {\n",
       "        text-align: right;\n",
       "    }\n",
       "</style>\n",
       "<table border=\"1\" class=\"dataframe\">\n",
       "  <thead>\n",
       "    <tr style=\"text-align: right;\">\n",
       "      <th></th>\n",
       "      <th>workers_num</th>\n",
       "    </tr>\n",
       "  </thead>\n",
       "  <tbody>\n",
       "    <tr>\n",
       "      <th>121</th>\n",
       "      <td>27.0</td>\n",
       "    </tr>\n",
       "    <tr>\n",
       "      <th>122</th>\n",
       "      <td>29.0</td>\n",
       "    </tr>\n",
       "    <tr>\n",
       "      <th>126</th>\n",
       "      <td>27.0</td>\n",
       "    </tr>\n",
       "    <tr>\n",
       "      <th>127</th>\n",
       "      <td>25.0</td>\n",
       "    </tr>\n",
       "    <tr>\n",
       "      <th>129</th>\n",
       "      <td>32.0</td>\n",
       "    </tr>\n",
       "    <tr>\n",
       "      <th>130</th>\n",
       "      <td>26.0</td>\n",
       "    </tr>\n",
       "    <tr>\n",
       "      <th>131</th>\n",
       "      <td>40.0</td>\n",
       "    </tr>\n",
       "    <tr>\n",
       "      <th>133</th>\n",
       "      <td>31.0</td>\n",
       "    </tr>\n",
       "    <tr>\n",
       "      <th>135</th>\n",
       "      <td>31.0</td>\n",
       "    </tr>\n",
       "    <tr>\n",
       "      <th>137</th>\n",
       "      <td>32.0</td>\n",
       "    </tr>\n",
       "    <tr>\n",
       "      <th>139</th>\n",
       "      <td>39.0</td>\n",
       "    </tr>\n",
       "    <tr>\n",
       "      <th>140</th>\n",
       "      <td>37.0</td>\n",
       "    </tr>\n",
       "    <tr>\n",
       "      <th>143</th>\n",
       "      <td>24.0</td>\n",
       "    </tr>\n",
       "    <tr>\n",
       "      <th>146</th>\n",
       "      <td>18.0</td>\n",
       "    </tr>\n",
       "    <tr>\n",
       "      <th>147</th>\n",
       "      <td>35.0</td>\n",
       "    </tr>\n",
       "    <tr>\n",
       "      <th>148</th>\n",
       "      <td>25.0</td>\n",
       "    </tr>\n",
       "    <tr>\n",
       "      <th>149</th>\n",
       "      <td>24.0</td>\n",
       "    </tr>\n",
       "    <tr>\n",
       "      <th>153</th>\n",
       "      <td>19.0</td>\n",
       "    </tr>\n",
       "    <tr>\n",
       "      <th>156</th>\n",
       "      <td>26.0</td>\n",
       "    </tr>\n",
       "    <tr>\n",
       "      <th>158</th>\n",
       "      <td>32.0</td>\n",
       "    </tr>\n",
       "    <tr>\n",
       "      <th>163</th>\n",
       "      <td>28.0</td>\n",
       "    </tr>\n",
       "    <tr>\n",
       "      <th>164</th>\n",
       "      <td>30.0</td>\n",
       "    </tr>\n",
       "    <tr>\n",
       "      <th>166</th>\n",
       "      <td>29.0</td>\n",
       "    </tr>\n",
       "    <tr>\n",
       "      <th>167</th>\n",
       "      <td>47.0</td>\n",
       "    </tr>\n",
       "    <tr>\n",
       "      <th>168</th>\n",
       "      <td>29.0</td>\n",
       "    </tr>\n",
       "    <tr>\n",
       "      <th>169</th>\n",
       "      <td>25.0</td>\n",
       "    </tr>\n",
       "    <tr>\n",
       "      <th>170</th>\n",
       "      <td>NaN</td>\n",
       "    </tr>\n",
       "    <tr>\n",
       "      <th>171</th>\n",
       "      <td>22.0</td>\n",
       "    </tr>\n",
       "    <tr>\n",
       "      <th>172</th>\n",
       "      <td>35.0</td>\n",
       "    </tr>\n",
       "    <tr>\n",
       "      <th>173</th>\n",
       "      <td>23.0</td>\n",
       "    </tr>\n",
       "    <tr>\n",
       "      <th>178</th>\n",
       "      <td>27.0</td>\n",
       "    </tr>\n",
       "    <tr>\n",
       "      <th>182</th>\n",
       "      <td>25.0</td>\n",
       "    </tr>\n",
       "    <tr>\n",
       "      <th>183</th>\n",
       "      <td>29.0</td>\n",
       "    </tr>\n",
       "    <tr>\n",
       "      <th>190</th>\n",
       "      <td>40.0</td>\n",
       "    </tr>\n",
       "    <tr>\n",
       "      <th>193</th>\n",
       "      <td>34.0</td>\n",
       "    </tr>\n",
       "    <tr>\n",
       "      <th>199</th>\n",
       "      <td>31.0</td>\n",
       "    </tr>\n",
       "    <tr>\n",
       "      <th>201</th>\n",
       "      <td>39.0</td>\n",
       "    </tr>\n",
       "    <tr>\n",
       "      <th>202</th>\n",
       "      <td>33.0</td>\n",
       "    </tr>\n",
       "    <tr>\n",
       "      <th>203</th>\n",
       "      <td>29.0</td>\n",
       "    </tr>\n",
       "    <tr>\n",
       "      <th>206</th>\n",
       "      <td>32.0</td>\n",
       "    </tr>\n",
       "    <tr>\n",
       "      <th>207</th>\n",
       "      <td>36.0</td>\n",
       "    </tr>\n",
       "    <tr>\n",
       "      <th>211</th>\n",
       "      <td>18.0</td>\n",
       "    </tr>\n",
       "    <tr>\n",
       "      <th>212</th>\n",
       "      <td>30.0</td>\n",
       "    </tr>\n",
       "    <tr>\n",
       "      <th>213</th>\n",
       "      <td>39.0</td>\n",
       "    </tr>\n",
       "    <tr>\n",
       "      <th>216</th>\n",
       "      <td>45.0</td>\n",
       "    </tr>\n",
       "    <tr>\n",
       "      <th>217</th>\n",
       "      <td>NaN</td>\n",
       "    </tr>\n",
       "    <tr>\n",
       "      <th>218</th>\n",
       "      <td>40.0</td>\n",
       "    </tr>\n",
       "    <tr>\n",
       "      <th>219</th>\n",
       "      <td>32.0</td>\n",
       "    </tr>\n",
       "    <tr>\n",
       "      <th>220</th>\n",
       "      <td>32.0</td>\n",
       "    </tr>\n",
       "    <tr>\n",
       "      <th>221</th>\n",
       "      <td>26.0</td>\n",
       "    </tr>\n",
       "    <tr>\n",
       "      <th>225</th>\n",
       "      <td>26.0</td>\n",
       "    </tr>\n",
       "    <tr>\n",
       "      <th>227</th>\n",
       "      <td>22.0</td>\n",
       "    </tr>\n",
       "    <tr>\n",
       "      <th>231</th>\n",
       "      <td>26.0</td>\n",
       "    </tr>\n",
       "    <tr>\n",
       "      <th>232</th>\n",
       "      <td>23.0</td>\n",
       "    </tr>\n",
       "    <tr>\n",
       "      <th>234</th>\n",
       "      <td>48.0</td>\n",
       "    </tr>\n",
       "    <tr>\n",
       "      <th>236</th>\n",
       "      <td>34.0</td>\n",
       "    </tr>\n",
       "    <tr>\n",
       "      <th>237</th>\n",
       "      <td>26.0</td>\n",
       "    </tr>\n",
       "    <tr>\n",
       "      <th>240</th>\n",
       "      <td>29.0</td>\n",
       "    </tr>\n",
       "    <tr>\n",
       "      <th>242</th>\n",
       "      <td>40.0</td>\n",
       "    </tr>\n",
       "    <tr>\n",
       "      <th>247</th>\n",
       "      <td>35.0</td>\n",
       "    </tr>\n",
       "  </tbody>\n",
       "</table>\n",
       "</div>"
      ],
      "text/plain": [
       "     workers_num\n",
       "121         27.0\n",
       "122         29.0\n",
       "126         27.0\n",
       "127         25.0\n",
       "129         32.0\n",
       "130         26.0\n",
       "131         40.0\n",
       "133         31.0\n",
       "135         31.0\n",
       "137         32.0\n",
       "139         39.0\n",
       "140         37.0\n",
       "143         24.0\n",
       "146         18.0\n",
       "147         35.0\n",
       "148         25.0\n",
       "149         24.0\n",
       "153         19.0\n",
       "156         26.0\n",
       "158         32.0\n",
       "163         28.0\n",
       "164         30.0\n",
       "166         29.0\n",
       "167         47.0\n",
       "168         29.0\n",
       "169         25.0\n",
       "170          NaN\n",
       "171         22.0\n",
       "172         35.0\n",
       "173         23.0\n",
       "178         27.0\n",
       "182         25.0\n",
       "183         29.0\n",
       "190         40.0\n",
       "193         34.0\n",
       "199         31.0\n",
       "201         39.0\n",
       "202         33.0\n",
       "203         29.0\n",
       "206         32.0\n",
       "207         36.0\n",
       "211         18.0\n",
       "212         30.0\n",
       "213         39.0\n",
       "216         45.0\n",
       "217          NaN\n",
       "218         40.0\n",
       "219         32.0\n",
       "220         32.0\n",
       "221         26.0\n",
       "225         26.0\n",
       "227         22.0\n",
       "231         26.0\n",
       "232         23.0\n",
       "234         48.0\n",
       "236         34.0\n",
       "237         26.0\n",
       "240         29.0\n",
       "242         40.0\n",
       "247         35.0"
      ]
     },
     "execution_count": 11,
     "metadata": {},
     "output_type": "execute_result"
    }
   ],
   "source": [
    "df.loc[:,['workers_num']].iloc[60:,:].head(60)"
   ]
  },
  {
   "cell_type": "markdown",
   "id": "8caac224",
   "metadata": {
    "papermill": {
     "duration": 0.014938,
     "end_time": "2023-07-07T04:51:03.546909",
     "exception": false,
     "start_time": "2023-07-07T04:51:03.531971",
     "status": "completed"
    },
    "tags": []
   },
   "source": [
    "# Filling missing values with mean using sklearn "
   ]
  },
  {
   "cell_type": "code",
   "execution_count": 12,
   "id": "dbb0f699",
   "metadata": {
    "execution": {
     "iopub.execute_input": "2023-07-07T04:51:03.579736Z",
     "iopub.status.busy": "2023-07-07T04:51:03.578961Z",
     "iopub.status.idle": "2023-07-07T04:51:05.405763Z",
     "shell.execute_reply": "2023-07-07T04:51:05.404717Z"
    },
    "papermill": {
     "duration": 1.846349,
     "end_time": "2023-07-07T04:51:05.408237",
     "exception": false,
     "start_time": "2023-07-07T04:51:03.561888",
     "status": "completed"
    },
    "tags": []
   },
   "outputs": [
    {
     "name": "stdout",
     "output_type": "stream",
     "text": [
      "Imputer saved successfully as 'imputer.pkl'\n"
     ]
    }
   ],
   "source": [
    "from sklearn.impute import SimpleImputer\n",
    "import pickle\n",
    "imputer=SimpleImputer(missing_values=np.nan,strategy='mean')\n",
    "imputer.fit(df.loc[:,['workers_num']])\n",
    "df.loc[:,['workers_num']]=imputer.transform(df.loc[:,['workers_num']])\n",
    "with open('imputer.pkl', 'wb') as f:\n",
    "    pickle.dump(imputer, f)\n",
    "\n",
    "print(\"Imputer saved successfully as 'imputer.pkl'\")"
   ]
  },
  {
   "cell_type": "markdown",
   "id": "1297dcf7",
   "metadata": {
    "papermill": {
     "duration": 0.01492,
     "end_time": "2023-07-07T04:51:05.438763",
     "exception": false,
     "start_time": "2023-07-07T04:51:05.423843",
     "status": "completed"
    },
    "tags": []
   },
   "source": [
    "# Showing the results "
   ]
  },
  {
   "cell_type": "code",
   "execution_count": 13,
   "id": "36e28b53",
   "metadata": {
    "execution": {
     "iopub.execute_input": "2023-07-07T04:51:05.472264Z",
     "iopub.status.busy": "2023-07-07T04:51:05.471849Z",
     "iopub.status.idle": "2023-07-07T04:51:05.485286Z",
     "shell.execute_reply": "2023-07-07T04:51:05.484511Z"
    },
    "papermill": {
     "duration": 0.032694,
     "end_time": "2023-07-07T04:51:05.487185",
     "exception": false,
     "start_time": "2023-07-07T04:51:05.454491",
     "status": "completed"
    },
    "tags": []
   },
   "outputs": [
    {
     "data": {
      "text/html": [
       "<div>\n",
       "<style scoped>\n",
       "    .dataframe tbody tr th:only-of-type {\n",
       "        vertical-align: middle;\n",
       "    }\n",
       "\n",
       "    .dataframe tbody tr th {\n",
       "        vertical-align: top;\n",
       "    }\n",
       "\n",
       "    .dataframe thead th {\n",
       "        text-align: right;\n",
       "    }\n",
       "</style>\n",
       "<table border=\"1\" class=\"dataframe\">\n",
       "  <thead>\n",
       "    <tr style=\"text-align: right;\">\n",
       "      <th></th>\n",
       "      <th>workers_num</th>\n",
       "    </tr>\n",
       "  </thead>\n",
       "  <tbody>\n",
       "    <tr>\n",
       "      <th>121</th>\n",
       "      <td>27.000000</td>\n",
       "    </tr>\n",
       "    <tr>\n",
       "      <th>122</th>\n",
       "      <td>29.000000</td>\n",
       "    </tr>\n",
       "    <tr>\n",
       "      <th>126</th>\n",
       "      <td>27.000000</td>\n",
       "    </tr>\n",
       "    <tr>\n",
       "      <th>127</th>\n",
       "      <td>25.000000</td>\n",
       "    </tr>\n",
       "    <tr>\n",
       "      <th>129</th>\n",
       "      <td>32.000000</td>\n",
       "    </tr>\n",
       "    <tr>\n",
       "      <th>130</th>\n",
       "      <td>26.000000</td>\n",
       "    </tr>\n",
       "    <tr>\n",
       "      <th>131</th>\n",
       "      <td>40.000000</td>\n",
       "    </tr>\n",
       "    <tr>\n",
       "      <th>133</th>\n",
       "      <td>31.000000</td>\n",
       "    </tr>\n",
       "    <tr>\n",
       "      <th>135</th>\n",
       "      <td>31.000000</td>\n",
       "    </tr>\n",
       "    <tr>\n",
       "      <th>137</th>\n",
       "      <td>32.000000</td>\n",
       "    </tr>\n",
       "    <tr>\n",
       "      <th>139</th>\n",
       "      <td>39.000000</td>\n",
       "    </tr>\n",
       "    <tr>\n",
       "      <th>140</th>\n",
       "      <td>37.000000</td>\n",
       "    </tr>\n",
       "    <tr>\n",
       "      <th>143</th>\n",
       "      <td>24.000000</td>\n",
       "    </tr>\n",
       "    <tr>\n",
       "      <th>146</th>\n",
       "      <td>18.000000</td>\n",
       "    </tr>\n",
       "    <tr>\n",
       "      <th>147</th>\n",
       "      <td>35.000000</td>\n",
       "    </tr>\n",
       "    <tr>\n",
       "      <th>148</th>\n",
       "      <td>25.000000</td>\n",
       "    </tr>\n",
       "    <tr>\n",
       "      <th>149</th>\n",
       "      <td>24.000000</td>\n",
       "    </tr>\n",
       "    <tr>\n",
       "      <th>153</th>\n",
       "      <td>19.000000</td>\n",
       "    </tr>\n",
       "    <tr>\n",
       "      <th>156</th>\n",
       "      <td>26.000000</td>\n",
       "    </tr>\n",
       "    <tr>\n",
       "      <th>158</th>\n",
       "      <td>32.000000</td>\n",
       "    </tr>\n",
       "    <tr>\n",
       "      <th>163</th>\n",
       "      <td>28.000000</td>\n",
       "    </tr>\n",
       "    <tr>\n",
       "      <th>164</th>\n",
       "      <td>30.000000</td>\n",
       "    </tr>\n",
       "    <tr>\n",
       "      <th>166</th>\n",
       "      <td>29.000000</td>\n",
       "    </tr>\n",
       "    <tr>\n",
       "      <th>167</th>\n",
       "      <td>47.000000</td>\n",
       "    </tr>\n",
       "    <tr>\n",
       "      <th>168</th>\n",
       "      <td>29.000000</td>\n",
       "    </tr>\n",
       "    <tr>\n",
       "      <th>169</th>\n",
       "      <td>25.000000</td>\n",
       "    </tr>\n",
       "    <tr>\n",
       "      <th>170</th>\n",
       "      <td>28.850004</td>\n",
       "    </tr>\n",
       "    <tr>\n",
       "      <th>171</th>\n",
       "      <td>22.000000</td>\n",
       "    </tr>\n",
       "    <tr>\n",
       "      <th>172</th>\n",
       "      <td>35.000000</td>\n",
       "    </tr>\n",
       "    <tr>\n",
       "      <th>173</th>\n",
       "      <td>23.000000</td>\n",
       "    </tr>\n",
       "    <tr>\n",
       "      <th>178</th>\n",
       "      <td>27.000000</td>\n",
       "    </tr>\n",
       "    <tr>\n",
       "      <th>182</th>\n",
       "      <td>25.000000</td>\n",
       "    </tr>\n",
       "    <tr>\n",
       "      <th>183</th>\n",
       "      <td>29.000000</td>\n",
       "    </tr>\n",
       "    <tr>\n",
       "      <th>190</th>\n",
       "      <td>40.000000</td>\n",
       "    </tr>\n",
       "    <tr>\n",
       "      <th>193</th>\n",
       "      <td>34.000000</td>\n",
       "    </tr>\n",
       "    <tr>\n",
       "      <th>199</th>\n",
       "      <td>31.000000</td>\n",
       "    </tr>\n",
       "    <tr>\n",
       "      <th>201</th>\n",
       "      <td>39.000000</td>\n",
       "    </tr>\n",
       "    <tr>\n",
       "      <th>202</th>\n",
       "      <td>33.000000</td>\n",
       "    </tr>\n",
       "    <tr>\n",
       "      <th>203</th>\n",
       "      <td>29.000000</td>\n",
       "    </tr>\n",
       "    <tr>\n",
       "      <th>206</th>\n",
       "      <td>32.000000</td>\n",
       "    </tr>\n",
       "    <tr>\n",
       "      <th>207</th>\n",
       "      <td>36.000000</td>\n",
       "    </tr>\n",
       "    <tr>\n",
       "      <th>211</th>\n",
       "      <td>18.000000</td>\n",
       "    </tr>\n",
       "    <tr>\n",
       "      <th>212</th>\n",
       "      <td>30.000000</td>\n",
       "    </tr>\n",
       "    <tr>\n",
       "      <th>213</th>\n",
       "      <td>39.000000</td>\n",
       "    </tr>\n",
       "    <tr>\n",
       "      <th>216</th>\n",
       "      <td>45.000000</td>\n",
       "    </tr>\n",
       "    <tr>\n",
       "      <th>217</th>\n",
       "      <td>28.850004</td>\n",
       "    </tr>\n",
       "    <tr>\n",
       "      <th>218</th>\n",
       "      <td>40.000000</td>\n",
       "    </tr>\n",
       "    <tr>\n",
       "      <th>219</th>\n",
       "      <td>32.000000</td>\n",
       "    </tr>\n",
       "    <tr>\n",
       "      <th>220</th>\n",
       "      <td>32.000000</td>\n",
       "    </tr>\n",
       "    <tr>\n",
       "      <th>221</th>\n",
       "      <td>26.000000</td>\n",
       "    </tr>\n",
       "    <tr>\n",
       "      <th>225</th>\n",
       "      <td>26.000000</td>\n",
       "    </tr>\n",
       "    <tr>\n",
       "      <th>227</th>\n",
       "      <td>22.000000</td>\n",
       "    </tr>\n",
       "    <tr>\n",
       "      <th>231</th>\n",
       "      <td>26.000000</td>\n",
       "    </tr>\n",
       "    <tr>\n",
       "      <th>232</th>\n",
       "      <td>23.000000</td>\n",
       "    </tr>\n",
       "    <tr>\n",
       "      <th>234</th>\n",
       "      <td>48.000000</td>\n",
       "    </tr>\n",
       "    <tr>\n",
       "      <th>236</th>\n",
       "      <td>34.000000</td>\n",
       "    </tr>\n",
       "    <tr>\n",
       "      <th>237</th>\n",
       "      <td>26.000000</td>\n",
       "    </tr>\n",
       "    <tr>\n",
       "      <th>240</th>\n",
       "      <td>29.000000</td>\n",
       "    </tr>\n",
       "    <tr>\n",
       "      <th>242</th>\n",
       "      <td>40.000000</td>\n",
       "    </tr>\n",
       "    <tr>\n",
       "      <th>247</th>\n",
       "      <td>35.000000</td>\n",
       "    </tr>\n",
       "  </tbody>\n",
       "</table>\n",
       "</div>"
      ],
      "text/plain": [
       "     workers_num\n",
       "121    27.000000\n",
       "122    29.000000\n",
       "126    27.000000\n",
       "127    25.000000\n",
       "129    32.000000\n",
       "130    26.000000\n",
       "131    40.000000\n",
       "133    31.000000\n",
       "135    31.000000\n",
       "137    32.000000\n",
       "139    39.000000\n",
       "140    37.000000\n",
       "143    24.000000\n",
       "146    18.000000\n",
       "147    35.000000\n",
       "148    25.000000\n",
       "149    24.000000\n",
       "153    19.000000\n",
       "156    26.000000\n",
       "158    32.000000\n",
       "163    28.000000\n",
       "164    30.000000\n",
       "166    29.000000\n",
       "167    47.000000\n",
       "168    29.000000\n",
       "169    25.000000\n",
       "170    28.850004\n",
       "171    22.000000\n",
       "172    35.000000\n",
       "173    23.000000\n",
       "178    27.000000\n",
       "182    25.000000\n",
       "183    29.000000\n",
       "190    40.000000\n",
       "193    34.000000\n",
       "199    31.000000\n",
       "201    39.000000\n",
       "202    33.000000\n",
       "203    29.000000\n",
       "206    32.000000\n",
       "207    36.000000\n",
       "211    18.000000\n",
       "212    30.000000\n",
       "213    39.000000\n",
       "216    45.000000\n",
       "217    28.850004\n",
       "218    40.000000\n",
       "219    32.000000\n",
       "220    32.000000\n",
       "221    26.000000\n",
       "225    26.000000\n",
       "227    22.000000\n",
       "231    26.000000\n",
       "232    23.000000\n",
       "234    48.000000\n",
       "236    34.000000\n",
       "237    26.000000\n",
       "240    29.000000\n",
       "242    40.000000\n",
       "247    35.000000"
      ]
     },
     "execution_count": 13,
     "metadata": {},
     "output_type": "execute_result"
    }
   ],
   "source": [
    "df.loc[:,['workers_num']].iloc[60:,:].head(60)"
   ]
  },
  {
   "cell_type": "markdown",
   "id": "6d960938",
   "metadata": {
    "papermill": {
     "duration": 0.016459,
     "end_time": "2023-07-07T04:51:05.519323",
     "exception": false,
     "start_time": "2023-07-07T04:51:05.502864",
     "status": "completed"
    },
    "tags": []
   },
   "source": [
    "# Ensuring the data is clean "
   ]
  },
  {
   "cell_type": "code",
   "execution_count": 14,
   "id": "a8f1d7ec",
   "metadata": {
    "execution": {
     "iopub.execute_input": "2023-07-07T04:51:05.559761Z",
     "iopub.status.busy": "2023-07-07T04:51:05.559359Z",
     "iopub.status.idle": "2023-07-07T04:51:05.584777Z",
     "shell.execute_reply": "2023-07-07T04:51:05.583576Z"
    },
    "papermill": {
     "duration": 0.047914,
     "end_time": "2023-07-07T04:51:05.587234",
     "exception": false,
     "start_time": "2023-07-07T04:51:05.539320",
     "status": "completed"
    },
    "tags": []
   },
   "outputs": [
    {
     "data": {
      "text/plain": [
       "Ware_house_ID                   0\n",
       "WH_Manager_ID                   0\n",
       "Location_type                   0\n",
       "WH_capacity_size                0\n",
       "zone                            0\n",
       "WH_regional_zone                0\n",
       "num_refill_req_l3m              0\n",
       "transport_issue_l1y             0\n",
       "Competitor_in_mkt               0\n",
       "retail_shop_num                 0\n",
       "wh_owner_type                   0\n",
       "distributor_num                 0\n",
       "flood_impacted                  0\n",
       "flood_proof                     0\n",
       "electric_supply                 0\n",
       "dist_from_hub                   0\n",
       "workers_num                     0\n",
       "wh_est_year                     0\n",
       "storage_issue_reported_l3m      0\n",
       "temp_reg_mach                   0\n",
       "approved_wh_govt_certificate    0\n",
       "wh_breakdown_l3m                0\n",
       "govt_check_l3m                  0\n",
       "product_wg_ton                  0\n",
       "dtype: int64"
      ]
     },
     "execution_count": 14,
     "metadata": {},
     "output_type": "execute_result"
    }
   ],
   "source": [
    "df.isnull().sum()"
   ]
  },
  {
   "cell_type": "code",
   "execution_count": 15,
   "id": "2d2318e2",
   "metadata": {
    "execution": {
     "iopub.execute_input": "2023-07-07T04:51:05.621934Z",
     "iopub.status.busy": "2023-07-07T04:51:05.620435Z",
     "iopub.status.idle": "2023-07-07T04:51:05.627868Z",
     "shell.execute_reply": "2023-07-07T04:51:05.627012Z"
    },
    "papermill": {
     "duration": 0.02693,
     "end_time": "2023-07-07T04:51:05.629982",
     "exception": false,
     "start_time": "2023-07-07T04:51:05.603052",
     "status": "completed"
    },
    "tags": []
   },
   "outputs": [
    {
     "data": {
      "text/plain": [
       "(12646, 24)"
      ]
     },
     "execution_count": 15,
     "metadata": {},
     "output_type": "execute_result"
    }
   ],
   "source": [
    "df.shape"
   ]
  },
  {
   "cell_type": "markdown",
   "id": "e2c32196",
   "metadata": {
    "papermill": {
     "duration": 0.015989,
     "end_time": "2023-07-07T04:51:05.662834",
     "exception": false,
     "start_time": "2023-07-07T04:51:05.646845",
     "status": "completed"
    },
    "tags": []
   },
   "source": [
    "# Dropping the unnecessary features "
   ]
  },
  {
   "cell_type": "code",
   "execution_count": 16,
   "id": "02e83461",
   "metadata": {
    "execution": {
     "iopub.execute_input": "2023-07-07T04:51:05.696914Z",
     "iopub.status.busy": "2023-07-07T04:51:05.695746Z",
     "iopub.status.idle": "2023-07-07T04:51:05.705693Z",
     "shell.execute_reply": "2023-07-07T04:51:05.704445Z"
    },
    "papermill": {
     "duration": 0.029542,
     "end_time": "2023-07-07T04:51:05.708184",
     "exception": false,
     "start_time": "2023-07-07T04:51:05.678642",
     "status": "completed"
    },
    "tags": []
   },
   "outputs": [],
   "source": [
    "df.drop(['Ware_house_ID','WH_Manager_ID'],axis=1,inplace=True)"
   ]
  },
  {
   "cell_type": "code",
   "execution_count": 17,
   "id": "aca7046a",
   "metadata": {
    "execution": {
     "iopub.execute_input": "2023-07-07T04:51:05.742135Z",
     "iopub.status.busy": "2023-07-07T04:51:05.741748Z",
     "iopub.status.idle": "2023-07-07T04:51:05.747085Z",
     "shell.execute_reply": "2023-07-07T04:51:05.745891Z"
    },
    "papermill": {
     "duration": 0.02573,
     "end_time": "2023-07-07T04:51:05.750168",
     "exception": false,
     "start_time": "2023-07-07T04:51:05.724438",
     "status": "completed"
    },
    "tags": []
   },
   "outputs": [],
   "source": [
    "l=['num_refill_req_l3m','transport_issue_l1y','Competitor_in_mkt','retail_shop_num','distributor_num','flood_impacted','flood_proof','electric_supply','dist_from_hub','workers_num','wh_est_year','storage_issue_reported_l3m','temp_reg_mach','wh_breakdown_l3m','govt_check_l3m']"
   ]
  },
  {
   "cell_type": "code",
   "execution_count": 18,
   "id": "b80c99d4",
   "metadata": {
    "execution": {
     "iopub.execute_input": "2023-07-07T04:51:05.785047Z",
     "iopub.status.busy": "2023-07-07T04:51:05.784685Z",
     "iopub.status.idle": "2023-07-07T04:51:05.791646Z",
     "shell.execute_reply": "2023-07-07T04:51:05.790391Z"
    },
    "papermill": {
     "duration": 0.026291,
     "end_time": "2023-07-07T04:51:05.793840",
     "exception": false,
     "start_time": "2023-07-07T04:51:05.767549",
     "status": "completed"
    },
    "tags": []
   },
   "outputs": [],
   "source": [
    "X=df.loc[:,l]\n",
    "y=df.iloc[:,-1]"
   ]
  },
  {
   "cell_type": "markdown",
   "id": "b7c7a725",
   "metadata": {
    "papermill": {
     "duration": 0.01547,
     "end_time": "2023-07-07T04:51:05.825075",
     "exception": false,
     "start_time": "2023-07-07T04:51:05.809605",
     "status": "completed"
    },
    "tags": []
   },
   "source": [
    "# Performing train test split"
   ]
  },
  {
   "cell_type": "code",
   "execution_count": 19,
   "id": "e86838bd",
   "metadata": {
    "execution": {
     "iopub.execute_input": "2023-07-07T04:51:05.859098Z",
     "iopub.status.busy": "2023-07-07T04:51:05.858722Z",
     "iopub.status.idle": "2023-07-07T04:51:05.869090Z",
     "shell.execute_reply": "2023-07-07T04:51:05.867724Z"
    },
    "papermill": {
     "duration": 0.030247,
     "end_time": "2023-07-07T04:51:05.871698",
     "exception": false,
     "start_time": "2023-07-07T04:51:05.841451",
     "status": "completed"
    },
    "tags": []
   },
   "outputs": [],
   "source": [
    "from sklearn.model_selection import train_test_split\n",
    "X_train0, X_test0, y_train0, y_test0 = train_test_split(X, y, test_size = 0.2, random_state = 1)"
   ]
  },
  {
   "cell_type": "markdown",
   "id": "8947407a",
   "metadata": {
    "papermill": {
     "duration": 0.015513,
     "end_time": "2023-07-07T04:51:05.903165",
     "exception": false,
     "start_time": "2023-07-07T04:51:05.887652",
     "status": "completed"
    },
    "tags": []
   },
   "source": [
    "# Displaying basic MAPE of model trained on non-categorical features.  "
   ]
  },
  {
   "cell_type": "code",
   "execution_count": 20,
   "id": "d450dacd",
   "metadata": {
    "execution": {
     "iopub.execute_input": "2023-07-07T04:51:05.936913Z",
     "iopub.status.busy": "2023-07-07T04:51:05.936364Z",
     "iopub.status.idle": "2023-07-07T04:51:05.984650Z",
     "shell.execute_reply": "2023-07-07T04:51:05.983058Z"
    },
    "papermill": {
     "duration": 0.068635,
     "end_time": "2023-07-07T04:51:05.987680",
     "exception": false,
     "start_time": "2023-07-07T04:51:05.919045",
     "status": "completed"
    },
    "tags": []
   },
   "outputs": [
    {
     "name": "stdout",
     "output_type": "stream",
     "text": [
      "0.05283998950440429\n"
     ]
    }
   ],
   "source": [
    "#Training the model\n",
    "from sklearn.linear_model import LinearRegression\n",
    "model=LinearRegression()\n",
    "model.fit(X_train0,y_train0)\n",
    "# Predicting on test data \n",
    "y_pred=model.predict(X_test0)\n",
    "from sklearn.metrics import mean_absolute_percentage_error\n",
    "# Baseline mape for linear regression\n",
    "basic_mape=mean_absolute_percentage_error(y_pred,y_test0)\n",
    "print(basic_mape)"
   ]
  },
  {
   "cell_type": "markdown",
   "id": "c4fcf4c9",
   "metadata": {
    "papermill": {
     "duration": 0.025666,
     "end_time": "2023-07-07T04:51:06.060180",
     "exception": false,
     "start_time": "2023-07-07T04:51:06.034514",
     "status": "completed"
    },
    "tags": []
   },
   "source": [
    "# One hot Encoding the categorical fetaures of the entire dataframe "
   ]
  },
  {
   "cell_type": "code",
   "execution_count": 21,
   "id": "1385efcd",
   "metadata": {
    "execution": {
     "iopub.execute_input": "2023-07-07T04:51:06.107566Z",
     "iopub.status.busy": "2023-07-07T04:51:06.107181Z",
     "iopub.status.idle": "2023-07-07T04:51:06.168198Z",
     "shell.execute_reply": "2023-07-07T04:51:06.167384Z"
    },
    "papermill": {
     "duration": 0.084786,
     "end_time": "2023-07-07T04:51:06.170611",
     "exception": false,
     "start_time": "2023-07-07T04:51:06.085825",
     "status": "completed"
    },
    "tags": []
   },
   "outputs": [
    {
     "name": "stdout",
     "output_type": "stream",
     "text": [
      "Transformer saved successfully as 'transformer.pkl'\n"
     ]
    }
   ],
   "source": [
    "from sklearn.compose import ColumnTransformer\n",
    "from sklearn.preprocessing import OneHotEncoder\n",
    "import pandas as pd\n",
    "transformed_df=df\n",
    "ct = ColumnTransformer(transformers=[('encoder', OneHotEncoder(), [0, 1, 2, 3,8,18])], remainder='passthrough')\n",
    "transformed = ct.fit_transform(df)\n",
    "transformed_columns = ct.get_feature_names_out()\n",
    "transformed_df = pd.DataFrame(transformed, columns=transformed_columns, index=df.index)\n",
    "with open('transformer.pkl', 'wb') as f:\n",
    "    pickle.dump(ct, f)\n",
    "\n",
    "print(\"Transformer saved successfully as 'transformer.pkl'\")"
   ]
  },
  {
   "cell_type": "markdown",
   "id": "2820118e",
   "metadata": {
    "papermill": {
     "duration": 0.016355,
     "end_time": "2023-07-07T04:51:06.202990",
     "exception": false,
     "start_time": "2023-07-07T04:51:06.186635",
     "status": "completed"
    },
    "tags": []
   },
   "source": [
    "# Visualizing the correlation of the transformed dataframe. "
   ]
  },
  {
   "cell_type": "code",
   "execution_count": 22,
   "id": "7140a4ca",
   "metadata": {
    "execution": {
     "iopub.execute_input": "2023-07-07T04:51:06.238449Z",
     "iopub.status.busy": "2023-07-07T04:51:06.237689Z",
     "iopub.status.idle": "2023-07-07T04:51:08.091057Z",
     "shell.execute_reply": "2023-07-07T04:51:08.089775Z"
    },
    "papermill": {
     "duration": 1.876588,
     "end_time": "2023-07-07T04:51:08.096424",
     "exception": false,
     "start_time": "2023-07-07T04:51:06.219836",
     "status": "completed"
    },
    "tags": []
   },
   "outputs": [
    {
     "data": {
      "text/plain": [
       "<AxesSubplot: >"
      ]
     },
     "execution_count": 22,
     "metadata": {},
     "output_type": "execute_result"
    },
    {
     "data": {
      "image/png": "[encoded data removed]",
      "text/plain": [
       "<Figure size 2500x1200 with 2 Axes>"
      ]
     },
     "metadata": {},
     "output_type": "display_data"
    }
   ],
   "source": [
    "transformed_df\n",
    "import seaborn as sns\n",
    "import matplotlib.pyplot as plt\n",
    "plt.figure(figsize=(25,12))\n",
    "sns.heatmap(data=transformed_df.corr())"
   ]
  },
  {
   "cell_type": "code",
   "execution_count": 23,
   "id": "6f4190e1",
   "metadata": {
    "execution": {
     "iopub.execute_input": "2023-07-07T04:51:08.138667Z",
     "iopub.status.busy": "2023-07-07T04:51:08.138276Z",
     "iopub.status.idle": "2023-07-07T04:51:08.154933Z",
     "shell.execute_reply": "2023-07-07T04:51:08.153525Z"
    },
    "papermill": {
     "duration": 0.040695,
     "end_time": "2023-07-07T04:51:08.157394",
     "exception": false,
     "start_time": "2023-07-07T04:51:08.116699",
     "status": "completed"
    },
    "tags": []
   },
   "outputs": [
    {
     "name": "stdout",
     "output_type": "stream",
     "text": [
      "<class 'pandas.core.frame.DataFrame'>\n",
      "Int64Index: 12646 entries, 4 to 24999\n",
      "Data columns (total 38 columns):\n",
      " #   Column                                    Non-Null Count  Dtype  \n",
      "---  ------                                    --------------  -----  \n",
      " 0   encoder__Location_type_Rural              12646 non-null  float64\n",
      " 1   encoder__Location_type_Urban              12646 non-null  float64\n",
      " 2   encoder__WH_capacity_size_Large           12646 non-null  float64\n",
      " 3   encoder__WH_capacity_size_Mid             12646 non-null  float64\n",
      " 4   encoder__WH_capacity_size_Small           12646 non-null  float64\n",
      " 5   encoder__zone_East                        12646 non-null  float64\n",
      " 6   encoder__zone_North                       12646 non-null  float64\n",
      " 7   encoder__zone_South                       12646 non-null  float64\n",
      " 8   encoder__zone_West                        12646 non-null  float64\n",
      " 9   encoder__WH_regional_zone_Zone 1          12646 non-null  float64\n",
      " 10  encoder__WH_regional_zone_Zone 2          12646 non-null  float64\n",
      " 11  encoder__WH_regional_zone_Zone 3          12646 non-null  float64\n",
      " 12  encoder__WH_regional_zone_Zone 4          12646 non-null  float64\n",
      " 13  encoder__WH_regional_zone_Zone 5          12646 non-null  float64\n",
      " 14  encoder__WH_regional_zone_Zone 6          12646 non-null  float64\n",
      " 15  encoder__wh_owner_type_Company Owned      12646 non-null  float64\n",
      " 16  encoder__wh_owner_type_Rented             12646 non-null  float64\n",
      " 17  encoder__approved_wh_govt_certificate_A   12646 non-null  float64\n",
      " 18  encoder__approved_wh_govt_certificate_A+  12646 non-null  float64\n",
      " 19  encoder__approved_wh_govt_certificate_B   12646 non-null  float64\n",
      " 20  encoder__approved_wh_govt_certificate_B+  12646 non-null  float64\n",
      " 21  encoder__approved_wh_govt_certificate_C   12646 non-null  float64\n",
      " 22  remainder__num_refill_req_l3m             12646 non-null  float64\n",
      " 23  remainder__transport_issue_l1y            12646 non-null  float64\n",
      " 24  remainder__Competitor_in_mkt              12646 non-null  float64\n",
      " 25  remainder__retail_shop_num                12646 non-null  float64\n",
      " 26  remainder__distributor_num                12646 non-null  float64\n",
      " 27  remainder__flood_impacted                 12646 non-null  float64\n",
      " 28  remainder__flood_proof                    12646 non-null  float64\n",
      " 29  remainder__electric_supply                12646 non-null  float64\n",
      " 30  remainder__dist_from_hub                  12646 non-null  float64\n",
      " 31  remainder__workers_num                    12646 non-null  float64\n",
      " 32  remainder__wh_est_year                    12646 non-null  float64\n",
      " 33  remainder__storage_issue_reported_l3m     12646 non-null  float64\n",
      " 34  remainder__temp_reg_mach                  12646 non-null  float64\n",
      " 35  remainder__wh_breakdown_l3m               12646 non-null  float64\n",
      " 36  remainder__govt_check_l3m                 12646 non-null  float64\n",
      " 37  remainder__product_wg_ton                 12646 non-null  float64\n",
      "dtypes: float64(38)\n",
      "memory usage: 3.8 MB\n"
     ]
    }
   ],
   "source": [
    "transformed_df.info()"
   ]
  },
  {
   "cell_type": "markdown",
   "id": "3a773bc7",
   "metadata": {
    "papermill": {
     "duration": 0.021057,
     "end_time": "2023-07-07T04:51:08.199671",
     "exception": false,
     "start_time": "2023-07-07T04:51:08.178614",
     "status": "completed"
    },
    "tags": []
   },
   "source": []
  },
  {
   "cell_type": "markdown",
   "id": "09da28f5",
   "metadata": {
    "papermill": {
     "duration": 0.020191,
     "end_time": "2023-07-07T04:51:08.240916",
     "exception": false,
     "start_time": "2023-07-07T04:51:08.220725",
     "status": "completed"
    },
    "tags": []
   },
   "source": [
    "# Creating dependent and independent variables"
   ]
  },
  {
   "cell_type": "code",
   "execution_count": 24,
   "id": "77f80b7c",
   "metadata": {
    "execution": {
     "iopub.execute_input": "2023-07-07T04:51:08.283916Z",
     "iopub.status.busy": "2023-07-07T04:51:08.283540Z",
     "iopub.status.idle": "2023-07-07T04:51:08.289173Z",
     "shell.execute_reply": "2023-07-07T04:51:08.288024Z"
    },
    "papermill": {
     "duration": 0.030411,
     "end_time": "2023-07-07T04:51:08.291801",
     "exception": false,
     "start_time": "2023-07-07T04:51:08.261390",
     "status": "completed"
    },
    "tags": []
   },
   "outputs": [],
   "source": [
    "X_transformed_df= transformed_df.iloc[:,:-1]\n",
    "y = df.iloc[:, -1]"
   ]
  },
  {
   "cell_type": "markdown",
   "id": "ea23e05b",
   "metadata": {
    "papermill": {
     "duration": 0.02187,
     "end_time": "2023-07-07T04:51:08.335541",
     "exception": false,
     "start_time": "2023-07-07T04:51:08.313671",
     "status": "completed"
    },
    "tags": []
   },
   "source": [
    "# Performing train test splt"
   ]
  },
  {
   "cell_type": "code",
   "execution_count": 25,
   "id": "ec7cb1a2",
   "metadata": {
    "execution": {
     "iopub.execute_input": "2023-07-07T04:51:08.380073Z",
     "iopub.status.busy": "2023-07-07T04:51:08.379689Z",
     "iopub.status.idle": "2023-07-07T04:51:08.392199Z",
     "shell.execute_reply": "2023-07-07T04:51:08.391043Z"
    },
    "papermill": {
     "duration": 0.037977,
     "end_time": "2023-07-07T04:51:08.394690",
     "exception": false,
     "start_time": "2023-07-07T04:51:08.356713",
     "status": "completed"
    },
    "tags": []
   },
   "outputs": [],
   "source": [
    "from sklearn.model_selection import train_test_split\n",
    "X_train, X_test, y_train, y_test = train_test_split(X_transformed_df, y, test_size = 0.2, random_state = 1)"
   ]
  },
  {
   "cell_type": "markdown",
   "id": "a1531441",
   "metadata": {
    "papermill": {
     "duration": 0.020418,
     "end_time": "2023-07-07T04:51:08.435970",
     "exception": false,
     "start_time": "2023-07-07T04:51:08.415552",
     "status": "completed"
    },
    "tags": []
   },
   "source": [
    "# Looking for the change after split"
   ]
  },
  {
   "cell_type": "code",
   "execution_count": 26,
   "id": "388f140d",
   "metadata": {
    "execution": {
     "iopub.execute_input": "2023-07-07T04:51:08.479379Z",
     "iopub.status.busy": "2023-07-07T04:51:08.478980Z",
     "iopub.status.idle": "2023-07-07T04:51:08.493088Z",
     "shell.execute_reply": "2023-07-07T04:51:08.491880Z"
    },
    "papermill": {
     "duration": 0.038756,
     "end_time": "2023-07-07T04:51:08.495579",
     "exception": false,
     "start_time": "2023-07-07T04:51:08.456823",
     "status": "completed"
    },
    "tags": []
   },
   "outputs": [
    {
     "name": "stdout",
     "output_type": "stream",
     "text": [
      "<class 'pandas.core.frame.DataFrame'>\n",
      "Int64Index: 12646 entries, 4 to 24999\n",
      "Data columns (total 15 columns):\n",
      " #   Column                      Non-Null Count  Dtype  \n",
      "---  ------                      --------------  -----  \n",
      " 0   num_refill_req_l3m          12646 non-null  int64  \n",
      " 1   transport_issue_l1y         12646 non-null  int64  \n",
      " 2   Competitor_in_mkt           12646 non-null  int64  \n",
      " 3   retail_shop_num             12646 non-null  int64  \n",
      " 4   distributor_num             12646 non-null  int64  \n",
      " 5   flood_impacted              12646 non-null  int64  \n",
      " 6   flood_proof                 12646 non-null  int64  \n",
      " 7   electric_supply             12646 non-null  int64  \n",
      " 8   dist_from_hub               12646 non-null  int64  \n",
      " 9   workers_num                 12646 non-null  float64\n",
      " 10  wh_est_year                 12646 non-null  float64\n",
      " 11  storage_issue_reported_l3m  12646 non-null  int64  \n",
      " 12  temp_reg_mach               12646 non-null  int64  \n",
      " 13  wh_breakdown_l3m            12646 non-null  int64  \n",
      " 14  govt_check_l3m              12646 non-null  int64  \n",
      "dtypes: float64(2), int64(13)\n",
      "memory usage: 1.5 MB\n"
     ]
    }
   ],
   "source": [
    "X.info()"
   ]
  },
  {
   "cell_type": "code",
   "execution_count": 27,
   "id": "cc9b5156",
   "metadata": {
    "execution": {
     "iopub.execute_input": "2023-07-07T04:51:08.539721Z",
     "iopub.status.busy": "2023-07-07T04:51:08.539347Z",
     "iopub.status.idle": "2023-07-07T04:51:08.553613Z",
     "shell.execute_reply": "2023-07-07T04:51:08.551857Z"
    },
    "papermill": {
     "duration": 0.039231,
     "end_time": "2023-07-07T04:51:08.555982",
     "exception": false,
     "start_time": "2023-07-07T04:51:08.516751",
     "status": "completed"
    },
    "tags": []
   },
   "outputs": [
    {
     "name": "stdout",
     "output_type": "stream",
     "text": [
      "<class 'pandas.core.frame.DataFrame'>\n",
      "Int64Index: 10116 entries, 10284 to 500\n",
      "Data columns (total 37 columns):\n",
      " #   Column                                    Non-Null Count  Dtype  \n",
      "---  ------                                    --------------  -----  \n",
      " 0   encoder__Location_type_Rural              10116 non-null  float64\n",
      " 1   encoder__Location_type_Urban              10116 non-null  float64\n",
      " 2   encoder__WH_capacity_size_Large           10116 non-null  float64\n",
      " 3   encoder__WH_capacity_size_Mid             10116 non-null  float64\n",
      " 4   encoder__WH_capacity_size_Small           10116 non-null  float64\n",
      " 5   encoder__zone_East                        10116 non-null  float64\n",
      " 6   encoder__zone_North                       10116 non-null  float64\n",
      " 7   encoder__zone_South                       10116 non-null  float64\n",
      " 8   encoder__zone_West                        10116 non-null  float64\n",
      " 9   encoder__WH_regional_zone_Zone 1          10116 non-null  float64\n",
      " 10  encoder__WH_regional_zone_Zone 2          10116 non-null  float64\n",
      " 11  encoder__WH_regional_zone_Zone 3          10116 non-null  float64\n",
      " 12  encoder__WH_regional_zone_Zone 4          10116 non-null  float64\n",
      " 13  encoder__WH_regional_zone_Zone 5          10116 non-null  float64\n",
      " 14  encoder__WH_regional_zone_Zone 6          10116 non-null  float64\n",
      " 15  encoder__wh_owner_type_Company Owned      10116 non-null  float64\n",
      " 16  encoder__wh_owner_type_Rented             10116 non-null  float64\n",
      " 17  encoder__approved_wh_govt_certificate_A   10116 non-null  float64\n",
      " 18  encoder__approved_wh_govt_certificate_A+  10116 non-null  float64\n",
      " 19  encoder__approved_wh_govt_certificate_B   10116 non-null  float64\n",
      " 20  encoder__approved_wh_govt_certificate_B+  10116 non-null  float64\n",
      " 21  encoder__approved_wh_govt_certificate_C   10116 non-null  float64\n",
      " 22  remainder__num_refill_req_l3m             10116 non-null  float64\n",
      " 23  remainder__transport_issue_l1y            10116 non-null  float64\n",
      " 24  remainder__Competitor_in_mkt              10116 non-null  float64\n",
      " 25  remainder__retail_shop_num                10116 non-null  float64\n",
      " 26  remainder__distributor_num                10116 non-null  float64\n",
      " 27  remainder__flood_impacted                 10116 non-null  float64\n",
      " 28  remainder__flood_proof                    10116 non-null  float64\n",
      " 29  remainder__electric_supply                10116 non-null  float64\n",
      " 30  remainder__dist_from_hub                  10116 non-null  float64\n",
      " 31  remainder__workers_num                    10116 non-null  float64\n",
      " 32  remainder__wh_est_year                    10116 non-null  float64\n",
      " 33  remainder__storage_issue_reported_l3m     10116 non-null  float64\n",
      " 34  remainder__temp_reg_mach                  10116 non-null  float64\n",
      " 35  remainder__wh_breakdown_l3m               10116 non-null  float64\n",
      " 36  remainder__govt_check_l3m                 10116 non-null  float64\n",
      "dtypes: float64(37)\n",
      "memory usage: 2.9 MB\n"
     ]
    }
   ],
   "source": [
    "X_train.info()"
   ]
  },
  {
   "cell_type": "markdown",
   "id": "baca4903",
   "metadata": {
    "papermill": {
     "duration": 0.020709,
     "end_time": "2023-07-07T04:51:08.597743",
     "exception": false,
     "start_time": "2023-07-07T04:51:08.577034",
     "status": "completed"
    },
    "tags": []
   },
   "source": [
    "**Printing basic mape for comparison**"
   ]
  },
  {
   "cell_type": "code",
   "execution_count": 28,
   "id": "a12a117e",
   "metadata": {
    "execution": {
     "iopub.execute_input": "2023-07-07T04:51:08.641766Z",
     "iopub.status.busy": "2023-07-07T04:51:08.641360Z",
     "iopub.status.idle": "2023-07-07T04:51:08.647359Z",
     "shell.execute_reply": "2023-07-07T04:51:08.646126Z"
    },
    "papermill": {
     "duration": 0.030621,
     "end_time": "2023-07-07T04:51:08.649344",
     "exception": false,
     "start_time": "2023-07-07T04:51:08.618723",
     "status": "completed"
    },
    "tags": []
   },
   "outputs": [
    {
     "name": "stdout",
     "output_type": "stream",
     "text": [
      "0.05283998950440429\n"
     ]
    }
   ],
   "source": [
    "print(basic_mape)"
   ]
  },
  {
   "cell_type": "markdown",
   "id": "3830de7d",
   "metadata": {
    "papermill": {
     "duration": 0.020754,
     "end_time": "2023-07-07T04:51:08.691767",
     "exception": false,
     "start_time": "2023-07-07T04:51:08.671013",
     "status": "completed"
    },
    "tags": []
   },
   "source": [
    "# Obtaining new MAPE"
   ]
  },
  {
   "cell_type": "code",
   "execution_count": 29,
   "id": "02443c5f",
   "metadata": {
    "execution": {
     "iopub.execute_input": "2023-07-07T04:51:08.735684Z",
     "iopub.status.busy": "2023-07-07T04:51:08.735309Z",
     "iopub.status.idle": "2023-07-07T04:51:08.793835Z",
     "shell.execute_reply": "2023-07-07T04:51:08.792584Z"
    },
    "papermill": {
     "duration": 0.084819,
     "end_time": "2023-07-07T04:51:08.797606",
     "exception": false,
     "start_time": "2023-07-07T04:51:08.712787",
     "status": "completed"
    },
    "tags": []
   },
   "outputs": [
    {
     "data": {
      "text/plain": [
       "0.046968990696934144"
      ]
     },
     "execution_count": 29,
     "metadata": {},
     "output_type": "execute_result"
    }
   ],
   "source": [
    "from sklearn.linear_model import LinearRegression\n",
    "model=LinearRegression()\n",
    "model.fit(X_train,y_train)\n",
    "# Predicting on test data \n",
    "y_pred=model.predict(X_test)\n",
    "from sklearn.metrics import mean_absolute_percentage_error\n",
    "# Baseline mape for linear regression\n",
    "mean_absolute_percentage_error(y_pred,y_test)"
   ]
  },
  {
   "cell_type": "markdown",
   "id": "9722d204",
   "metadata": {
    "papermill": {
     "duration": 0.046155,
     "end_time": "2023-07-07T04:51:08.900398",
     "exception": false,
     "start_time": "2023-07-07T04:51:08.854243",
     "status": "completed"
    },
    "tags": []
   },
   "source": [
    "**Clearly there is 11.1% reduction in MAPE after one hot encoding.** "
   ]
  },
  {
   "cell_type": "markdown",
   "id": "1b572574",
   "metadata": {
    "papermill": {
     "duration": 0.021023,
     "end_time": "2023-07-07T04:51:08.943423",
     "exception": false,
     "start_time": "2023-07-07T04:51:08.922400",
     "status": "completed"
    },
    "tags": []
   },
   "source": [
    "# converting numpy array y_pred to series for results visualisation."
   ]
  },
  {
   "cell_type": "code",
   "execution_count": 30,
   "id": "dc0aa086",
   "metadata": {
    "execution": {
     "iopub.execute_input": "2023-07-07T04:51:08.988716Z",
     "iopub.status.busy": "2023-07-07T04:51:08.988345Z",
     "iopub.status.idle": "2023-07-07T04:51:08.993496Z",
     "shell.execute_reply": "2023-07-07T04:51:08.992293Z"
    },
    "papermill": {
     "duration": 0.031337,
     "end_time": "2023-07-07T04:51:08.996126",
     "exception": false,
     "start_time": "2023-07-07T04:51:08.964789",
     "status": "completed"
    },
    "tags": []
   },
   "outputs": [],
   "source": [
    "s1=pd.Series(data=y_pred,index=y_test.index)"
   ]
  },
  {
   "cell_type": "markdown",
   "id": "cba1852e",
   "metadata": {
    "papermill": {
     "duration": 0.021901,
     "end_time": "2023-07-07T04:51:09.039401",
     "exception": false,
     "start_time": "2023-07-07T04:51:09.017500",
     "status": "completed"
    },
    "tags": []
   },
   "source": [
    "# Plotting predictions and ground truth values"
   ]
  },
  {
   "cell_type": "code",
   "execution_count": 31,
   "id": "714d1368",
   "metadata": {
    "execution": {
     "iopub.execute_input": "2023-07-07T04:51:09.083455Z",
     "iopub.status.busy": "2023-07-07T04:51:09.083055Z",
     "iopub.status.idle": "2023-07-07T04:51:09.354776Z",
     "shell.execute_reply": "2023-07-07T04:51:09.353696Z"
    },
    "papermill": {
     "duration": 0.296302,
     "end_time": "2023-07-07T04:51:09.356898",
     "exception": false,
     "start_time": "2023-07-07T04:51:09.060596",
     "status": "completed"
    },
    "tags": []
   },
   "outputs": [
    {
     "data": {
      "text/plain": [
       "<AxesSubplot: ylabel='product_wg_ton'>"
      ]
     },
     "execution_count": 31,
     "metadata": {},
     "output_type": "execute_result"
    },
    {
     "data": {
      "image/png": "[encoded data removed]",
      "text/plain": [
       "<Figure size 640x480 with 1 Axes>"
      ]
     },
     "metadata": {},
     "output_type": "display_data"
    }
   ],
   "source": [
    "sns.scatterplot(x=s1,y=y_test)"
   ]
  },
  {
   "cell_type": "markdown",
   "id": "ccfc19be",
   "metadata": {
    "papermill": {
     "duration": 0.022201,
     "end_time": "2023-07-07T04:51:09.401770",
     "exception": false,
     "start_time": "2023-07-07T04:51:09.379569",
     "status": "completed"
    },
    "tags": []
   },
   "source": []
  },
  {
   "cell_type": "markdown",
   "id": "480a2799",
   "metadata": {
    "papermill": {
     "duration": 0.021749,
     "end_time": "2023-07-07T04:51:09.445875",
     "exception": false,
     "start_time": "2023-07-07T04:51:09.424126",
     "status": "completed"
    },
    "tags": []
   },
   "source": [
    "# Plotting noise and ground truth values"
   ]
  },
  {
   "cell_type": "code",
   "execution_count": 32,
   "id": "f1412406",
   "metadata": {
    "execution": {
     "iopub.execute_input": "2023-07-07T04:51:09.492476Z",
     "iopub.status.busy": "2023-07-07T04:51:09.492093Z",
     "iopub.status.idle": "2023-07-07T04:51:09.801183Z",
     "shell.execute_reply": "2023-07-07T04:51:09.799936Z"
    },
    "papermill": {
     "duration": 0.335524,
     "end_time": "2023-07-07T04:51:09.803501",
     "exception": false,
     "start_time": "2023-07-07T04:51:09.467977",
     "status": "completed"
    },
    "tags": []
   },
   "outputs": [
    {
     "data": {
      "text/plain": [
       "<AxesSubplot: ylabel='product_wg_ton'>"
      ]
     },
     "execution_count": 32,
     "metadata": {},
     "output_type": "execute_result"
    },
    {
     "data": {
      "image/png": "[encoded data removed]",
      "text/plain": [
       "<Figure size 640x480 with 1 Axes>"
      ]
     },
     "metadata": {},
     "output_type": "display_data"
    }
   ],
   "source": [
    "s2=y_test-y_pred\n",
    "sns.scatterplot(data=s2)"
   ]
  },
  {
   "cell_type": "code",
   "execution_count": 33,
   "id": "dd4c0d3b",
   "metadata": {
    "execution": {
     "iopub.execute_input": "2023-07-07T04:51:09.855173Z",
     "iopub.status.busy": "2023-07-07T04:51:09.854472Z",
     "iopub.status.idle": "2023-07-07T04:51:10.209649Z",
     "shell.execute_reply": "2023-07-07T04:51:10.208292Z"
    },
    "papermill": {
     "duration": 0.383792,
     "end_time": "2023-07-07T04:51:10.212171",
     "exception": false,
     "start_time": "2023-07-07T04:51:09.828379",
     "status": "completed"
    },
    "tags": []
   },
   "outputs": [
    {
     "data": {
      "text/plain": [
       "<AxesSubplot: xlabel='product_wg_ton', ylabel='Count'>"
      ]
     },
     "execution_count": 33,
     "metadata": {},
     "output_type": "execute_result"
    },
    {
     "data": {
      "image/png": "[encoded data removed]",
      "text/plain": [
       "<Figure size 640x480 with 1 Axes>"
      ]
     },
     "metadata": {},
     "output_type": "display_data"
    }
   ],
   "source": [
    "sns.histplot(data=s2)"
   ]
  },
  {
   "cell_type": "markdown",
   "id": "9fb3c0ad",
   "metadata": {
    "papermill": {
     "duration": 0.024615,
     "end_time": "2023-07-07T04:51:10.261372",
     "exception": false,
     "start_time": "2023-07-07T04:51:10.236757",
     "status": "completed"
    },
    "tags": []
   },
   "source": [
    "# Noise has some correlation with ground truth values"
   ]
  },
  {
   "cell_type": "code",
   "execution_count": 34,
   "id": "8149ed29",
   "metadata": {
    "execution": {
     "iopub.execute_input": "2023-07-07T04:51:10.313221Z",
     "iopub.status.busy": "2023-07-07T04:51:10.312788Z",
     "iopub.status.idle": "2023-07-07T04:51:10.321165Z",
     "shell.execute_reply": "2023-07-07T04:51:10.320042Z"
    },
    "papermill": {
     "duration": 0.037357,
     "end_time": "2023-07-07T04:51:10.323504",
     "exception": false,
     "start_time": "2023-07-07T04:51:10.286147",
     "status": "completed"
    },
    "tags": []
   },
   "outputs": [
    {
     "data": {
      "text/plain": [
       "0.08774096490639152"
      ]
     },
     "execution_count": 34,
     "metadata": {},
     "output_type": "execute_result"
    }
   ],
   "source": [
    "s2.corr(y_test)"
   ]
  },
  {
   "cell_type": "markdown",
   "id": "f8b20843",
   "metadata": {
    "papermill": {
     "duration": 0.024619,
     "end_time": "2023-07-07T04:51:10.374299",
     "exception": false,
     "start_time": "2023-07-07T04:51:10.349680",
     "status": "completed"
    },
    "tags": []
   },
   "source": [
    "# Looking for features correlating with noise."
   ]
  },
  {
   "cell_type": "code",
   "execution_count": 35,
   "id": "7845dfa5",
   "metadata": {
    "execution": {
     "iopub.execute_input": "2023-07-07T04:51:10.426562Z",
     "iopub.status.busy": "2023-07-07T04:51:10.425897Z",
     "iopub.status.idle": "2023-07-07T04:51:10.447985Z",
     "shell.execute_reply": "2023-07-07T04:51:10.446901Z"
    },
    "papermill": {
     "duration": 0.050838,
     "end_time": "2023-07-07T04:51:10.450112",
     "exception": false,
     "start_time": "2023-07-07T04:51:10.399274",
     "status": "completed"
    },
    "tags": []
   },
   "outputs": [
    {
     "data": {
      "text/plain": [
       "encoder__Location_type_Rural                0.034668\n",
       "encoder__Location_type_Urban               -0.034668\n",
       "encoder__WH_capacity_size_Large             0.012314\n",
       "encoder__WH_capacity_size_Mid              -0.001444\n",
       "encoder__WH_capacity_size_Small            -0.014099\n",
       "encoder__zone_East                         -0.006498\n",
       "encoder__zone_North                         0.002976\n",
       "encoder__zone_South                        -0.017652\n",
       "encoder__zone_West                          0.015187\n",
       "encoder__WH_regional_zone_Zone 1           -0.002592\n",
       "encoder__WH_regional_zone_Zone 2            0.011661\n",
       "encoder__WH_regional_zone_Zone 3            0.019553\n",
       "encoder__WH_regional_zone_Zone 4           -0.027832\n",
       "encoder__WH_regional_zone_Zone 5           -0.009461\n",
       "encoder__WH_regional_zone_Zone 6            0.010804\n",
       "encoder__wh_owner_type_Company Owned        0.021846\n",
       "encoder__wh_owner_type_Rented              -0.021846\n",
       "encoder__approved_wh_govt_certificate_A    -0.046463\n",
       "encoder__approved_wh_govt_certificate_A+   -0.012569\n",
       "encoder__approved_wh_govt_certificate_B     0.011348\n",
       "encoder__approved_wh_govt_certificate_B+    0.018052\n",
       "encoder__approved_wh_govt_certificate_C     0.028859\n",
       "remainder__num_refill_req_l3m               0.005055\n",
       "remainder__transport_issue_l1y              0.021501\n",
       "remainder__Competitor_in_mkt                0.027604\n",
       "remainder__retail_shop_num                  0.008552\n",
       "remainder__distributor_num                 -0.034657\n",
       "remainder__flood_impacted                   0.004871\n",
       "remainder__flood_proof                     -0.020920\n",
       "remainder__electric_supply                  0.017881\n",
       "remainder__dist_from_hub                    0.014952\n",
       "remainder__workers_num                      0.002343\n",
       "remainder__wh_est_year                      0.015231\n",
       "remainder__storage_issue_reported_l3m      -0.000580\n",
       "remainder__temp_reg_mach                    0.030255\n",
       "remainder__wh_breakdown_l3m                 0.010217\n",
       "remainder__govt_check_l3m                  -0.011138\n",
       "dtype: float64"
      ]
     },
     "execution_count": 35,
     "metadata": {},
     "output_type": "execute_result"
    }
   ],
   "source": [
    "X_test.corrwith(s2)"
   ]
  },
  {
   "cell_type": "markdown",
   "id": "9a23d6e5",
   "metadata": {
    "papermill": {
     "duration": 0.02567,
     "end_time": "2023-07-07T04:51:10.501690",
     "exception": false,
     "start_time": "2023-07-07T04:51:10.476020",
     "status": "completed"
    },
    "tags": []
   },
   "source": [
    "# Initial shape of test data "
   ]
  },
  {
   "cell_type": "code",
   "execution_count": 36,
   "id": "221b56a1",
   "metadata": {
    "execution": {
     "iopub.execute_input": "2023-07-07T04:51:10.554931Z",
     "iopub.status.busy": "2023-07-07T04:51:10.553935Z",
     "iopub.status.idle": "2023-07-07T04:51:10.561413Z",
     "shell.execute_reply": "2023-07-07T04:51:10.560292Z"
    },
    "papermill": {
     "duration": 0.036521,
     "end_time": "2023-07-07T04:51:10.563453",
     "exception": false,
     "start_time": "2023-07-07T04:51:10.526932",
     "status": "completed"
    },
    "tags": []
   },
   "outputs": [
    {
     "data": {
      "text/plain": [
       "(2530, 37)"
      ]
     },
     "execution_count": 36,
     "metadata": {},
     "output_type": "execute_result"
    }
   ],
   "source": [
    "X_test.shape"
   ]
  },
  {
   "cell_type": "code",
   "execution_count": 37,
   "id": "399945db",
   "metadata": {
    "execution": {
     "iopub.execute_input": "2023-07-07T04:51:10.617238Z",
     "iopub.status.busy": "2023-07-07T04:51:10.616194Z",
     "iopub.status.idle": "2023-07-07T04:51:10.621918Z",
     "shell.execute_reply": "2023-07-07T04:51:10.620987Z"
    },
    "papermill": {
     "duration": 0.034615,
     "end_time": "2023-07-07T04:51:10.623950",
     "exception": false,
     "start_time": "2023-07-07T04:51:10.589335",
     "status": "completed"
    },
    "tags": []
   },
   "outputs": [
    {
     "name": "stdout",
     "output_type": "stream",
     "text": [
      "1265\n"
     ]
    }
   ],
   "source": [
    "u=int(X_test.shape[0]/2)\n",
    "print(u)"
   ]
  },
  {
   "cell_type": "markdown",
   "id": "744131c0",
   "metadata": {
    "papermill": {
     "duration": 0.02542,
     "end_time": "2023-07-07T04:51:10.675393",
     "exception": false,
     "start_time": "2023-07-07T04:51:10.649973",
     "status": "completed"
    },
    "tags": []
   },
   "source": [
    "**Splitting the test data into valid and test1(new test) each having equal amount of data.**"
   ]
  },
  {
   "cell_type": "code",
   "execution_count": 38,
   "id": "12b695b4",
   "metadata": {
    "execution": {
     "iopub.execute_input": "2023-07-07T04:51:10.728679Z",
     "iopub.status.busy": "2023-07-07T04:51:10.728071Z",
     "iopub.status.idle": "2023-07-07T04:51:10.734867Z",
     "shell.execute_reply": "2023-07-07T04:51:10.733190Z"
    },
    "papermill": {
     "duration": 0.036006,
     "end_time": "2023-07-07T04:51:10.737166",
     "exception": false,
     "start_time": "2023-07-07T04:51:10.701160",
     "status": "completed"
    },
    "tags": []
   },
   "outputs": [
    {
     "name": "stderr",
     "output_type": "stream",
     "text": [
      "C:\\Users\\kam00\\AppData\\Local\\Temp\\ipykernel_23808\\717848569.py:3: FutureWarning: The behavior of `series[i:j]` with an integer-dtype index is deprecated. In a future version, this will be treated as *label-based* indexing, consistent with e.g. `series[i]` lookups. To retain the old behavior, use `series.iloc[i:j]`. To get the future behavior, use `series.loc[i:j]`.\n",
      "  y_val=y_test[:u]\n",
      "C:\\Users\\kam00\\AppData\\Local\\Temp\\ipykernel_23808\\717848569.py:4: FutureWarning: The behavior of `series[i:j]` with an integer-dtype index is deprecated. In a future version, this will be treated as *label-based* indexing, consistent with e.g. `series[i]` lookups. To retain the old behavior, use `series.iloc[i:j]`. To get the future behavior, use `series.loc[i:j]`.\n",
      "  y_test1=y_test[u:]\n"
     ]
    }
   ],
   "source": [
    "X_val=X_test.iloc[:u,:]\n",
    "X_test1=X_test.iloc[u:,:]\n",
    "y_val=y_test[:u]\n",
    "y_test1=y_test[u:]"
   ]
  },
  {
   "cell_type": "markdown",
   "id": "23291333",
   "metadata": {
    "papermill": {
     "duration": 0.028719,
     "end_time": "2023-07-07T04:51:10.791228",
     "exception": false,
     "start_time": "2023-07-07T04:51:10.762509",
     "status": "completed"
    },
    "tags": []
   },
   "source": [
    "**Training RandomForestRegressor model on X_valid and predictions (generated by linear regression) corresponding to X_val.**  "
   ]
  },
  {
   "cell_type": "code",
   "execution_count": 39,
   "id": "6f5fe6e2",
   "metadata": {
    "execution": {
     "iopub.execute_input": "2023-07-07T04:51:10.846400Z",
     "iopub.status.busy": "2023-07-07T04:51:10.845594Z",
     "iopub.status.idle": "2023-07-07T04:51:11.144894Z",
     "shell.execute_reply": "2023-07-07T04:51:11.143877Z"
    },
    "papermill": {
     "duration": 0.329782,
     "end_time": "2023-07-07T04:51:11.147358",
     "exception": false,
     "start_time": "2023-07-07T04:51:10.817576",
     "status": "completed"
    },
    "tags": []
   },
   "outputs": [
    {
     "data": {
      "text/plain": [
       "0.04945705594814558"
      ]
     },
     "execution_count": 39,
     "metadata": {},
     "output_type": "execute_result"
    }
   ],
   "source": [
    "from sklearn.ensemble import RandomForestRegressor\n",
    "regressor = RandomForestRegressor(n_estimators = 10, random_state = 0)\n",
    "regressor.fit(X_val, y_pred[:u])\n",
    "# Predicting on new test data \n",
    "y_pred1=regressor.predict(X_test1)\n",
    "mean_absolute_percentage_error(y_pred1,y_test1)"
   ]
  },
  {
   "cell_type": "markdown",
   "id": "b641df3c",
   "metadata": {
    "papermill": {
     "duration": 0.026393,
     "end_time": "2023-07-07T04:51:11.199954",
     "exception": false,
     "start_time": "2023-07-07T04:51:11.173561",
     "status": "completed"
    },
    "tags": []
   },
   "source": [
    "**Training RandomForestRegressor model on X_valid and noise (generated by linear regression) corresponding to X_val.**"
   ]
  },
  {
   "cell_type": "code",
   "execution_count": 40,
   "id": "fad7431d",
   "metadata": {
    "execution": {
     "iopub.execute_input": "2023-07-07T04:51:11.253758Z",
     "iopub.status.busy": "2023-07-07T04:51:11.253340Z",
     "iopub.status.idle": "2023-07-07T04:51:11.385883Z",
     "shell.execute_reply": "2023-07-07T04:51:11.384843Z"
    },
    "papermill": {
     "duration": 0.162447,
     "end_time": "2023-07-07T04:51:11.388764",
     "exception": false,
     "start_time": "2023-07-07T04:51:11.226317",
     "status": "completed"
    },
    "tags": []
   },
   "outputs": [
    {
     "data": {
      "text/plain": [
       "0.03741935654077751"
      ]
     },
     "execution_count": 40,
     "metadata": {},
     "output_type": "execute_result"
    }
   ],
   "source": [
    "from sklearn.ensemble import RandomForestRegressor\n",
    "import pickle\n",
    "regressor1 = RandomForestRegressor(n_estimators = 10, random_state = 0)\n",
    "regressor1.fit(X_val, y_val-y_pred[:u])\n",
    "# Predicting on new test data \n",
    "y_pred1=regressor1.predict(X_test1)\n",
    "mean_absolute_percentage_error(y_pred1+y_pred[u:],y_test1)\n",
    "\n"
   ]
  },
  {
   "cell_type": "code",
   "execution_count": 41,
   "id": "95059191",
   "metadata": {},
   "outputs": [
    {
     "name": "stdout",
     "output_type": "stream",
     "text": [
      "Model saved to random_forest_regressor.pkl\n"
     ]
    }
   ],
   "source": [
    "with open('random_forest_regressor.pkl', 'wb') as f:\n",
    "    pickle.dump(regressor1, f)\n",
    "\n",
    "print(\"Model saved to random_forest_regressor.pkl\")"
   ]
  },
  {
   "cell_type": "markdown",
   "id": "295add05",
   "metadata": {
    "papermill": {
     "duration": 0.026295,
     "end_time": "2023-07-07T04:51:11.441654",
     "exception": false,
     "start_time": "2023-07-07T04:51:11.415359",
     "status": "completed"
    },
    "tags": []
   },
   "source": [
    "**Clearly 24.22% decrease in MAPE is visible after using noise instead of predictions.**"
   ]
  },
  {
   "cell_type": "markdown",
   "id": "1e76b1c0",
   "metadata": {
    "papermill": {
     "duration": 0.025272,
     "end_time": "2023-07-07T04:51:11.492765",
     "exception": false,
     "start_time": "2023-07-07T04:51:11.467493",
     "status": "completed"
    },
    "tags": []
   },
   "source": [
    "# **Thank You**"
   ]
  }
 ],
 "metadata": {
  "kernelspec": {
   "display_name": "Python 3",
   "language": "python",
   "name": "python3"
  },
  "language_info": {
   "codemirror_mode": {
    "name": "ipython",
    "version": 3
   },
   "file_extension": ".py",
   "mimetype": "text/x-python",
   "name": "python",
   "nbconvert_exporter": "python",
   "pygments_lexer": "ipython3",
   "version": "3.11.1"
  },
  "papermill": {
   "default_parameters": {},
   "duration": 23.098528,
   "end_time": "2023-07-07T04:51:12.641989",
   "environment_variables": {},
   "exception": null,
   "input_path": "__notebook__.ipynb",
   "output_path": "__notebook__.ipynb",
   "parameters": {},
   "start_time": "2023-07-07T04:50:49.543461",
   "version": "2.4.0"
  }
 },
 "nbformat": 4,
 "nbformat_minor": 5
}
